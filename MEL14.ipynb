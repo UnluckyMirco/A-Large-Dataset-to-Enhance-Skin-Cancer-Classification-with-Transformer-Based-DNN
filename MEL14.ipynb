{
 "cells": [
  {
   "cell_type": "markdown",
   "metadata": {
    "id": "SUs6go0MNDT5",
    "outputId": "4c70249f-592f-4c5e-cfa6-c2148249b8d1"
   },
   "source": [
    "## Training e Test rete Swin\n",
    "Training Swin as pretrained network using the Large Dataset.\n",
    "\n",
    "#### INPUT\n",
    "- **Training&Validation**: Large Dataset. Duplicates expect for NV class that is downsampled\n",
    "- **Test**: ISIC 2018 Challenge Test Set"
   ]
  },
  {
   "cell_type": "markdown",
   "metadata": {
    "id": "zrcc1TUXSzzF",
    "tags": []
   },
   "source": [
    "## Installation of libraries"
   ]
  },
  {
   "cell_type": "code",
   "execution_count": 3,
   "metadata": {
    "tags": []
   },
   "outputs": [
    {
     "name": "stdout",
     "output_type": "stream",
     "text": [
      "Requirement already satisfied: torch in /opt/conda/lib/python3.11/site-packages (2.1.0)\n",
      "Requirement already satisfied: torchvision in /opt/conda/lib/python3.11/site-packages (0.16.0)\n",
      "Requirement already satisfied: tensorboard in /opt/conda/lib/python3.11/site-packages (2.16.2)\n",
      "Requirement already satisfied: filelock in /opt/conda/lib/python3.11/site-packages (from torch) (3.12.4)\n",
      "Requirement already satisfied: typing-extensions in /opt/conda/lib/python3.11/site-packages (from torch) (4.8.0)\n",
      "Requirement already satisfied: sympy in /opt/conda/lib/python3.11/site-packages (from torch) (1.12)\n",
      "Requirement already satisfied: networkx in /opt/conda/lib/python3.11/site-packages (from torch) (3.1)\n",
      "Requirement already satisfied: jinja2 in /opt/conda/lib/python3.11/site-packages (from torch) (3.1.2)\n",
      "Requirement already satisfied: fsspec in /opt/conda/lib/python3.11/site-packages (from torch) (2023.6.0)\n",
      "Requirement already satisfied: numpy in /opt/conda/lib/python3.11/site-packages (from torchvision) (1.24.4)\n",
      "Requirement already satisfied: requests in /opt/conda/lib/python3.11/site-packages (from torchvision) (2.31.0)\n",
      "Requirement already satisfied: pillow!=8.3.*,>=5.3.0 in /opt/conda/lib/python3.11/site-packages (from torchvision) (10.0.1)\n",
      "Requirement already satisfied: absl-py>=0.4 in /opt/conda/lib/python3.11/site-packages (from tensorboard) (2.1.0)\n",
      "Requirement already satisfied: grpcio>=1.48.2 in /opt/conda/lib/python3.11/site-packages (from tensorboard) (1.64.0)\n",
      "Requirement already satisfied: markdown>=2.6.8 in /opt/conda/lib/python3.11/site-packages (from tensorboard) (3.5)\n",
      "Requirement already satisfied: protobuf!=4.24.0,>=3.19.6 in /opt/conda/lib/python3.11/site-packages (from tensorboard) (4.24.3)\n",
      "Requirement already satisfied: setuptools>=41.0.0 in /opt/conda/lib/python3.11/site-packages (from tensorboard) (68.2.2)\n",
      "Requirement already satisfied: six>1.9 in /opt/conda/lib/python3.11/site-packages (from tensorboard) (1.16.0)\n",
      "Requirement already satisfied: tensorboard-data-server<0.8.0,>=0.7.0 in /opt/conda/lib/python3.11/site-packages (from tensorboard) (0.7.2)\n",
      "Requirement already satisfied: werkzeug>=1.0.1 in /opt/conda/lib/python3.11/site-packages (from tensorboard) (3.0.0)\n",
      "Requirement already satisfied: MarkupSafe>=2.1.1 in /opt/conda/lib/python3.11/site-packages (from werkzeug>=1.0.1->tensorboard) (2.1.3)\n",
      "Requirement already satisfied: charset-normalizer<4,>=2 in /opt/conda/lib/python3.11/site-packages (from requests->torchvision) (3.3.0)\n",
      "Requirement already satisfied: idna<4,>=2.5 in /opt/conda/lib/python3.11/site-packages (from requests->torchvision) (3.4)\n",
      "Requirement already satisfied: urllib3<3,>=1.21.1 in /opt/conda/lib/python3.11/site-packages (from requests->torchvision) (1.26.17)\n",
      "Requirement already satisfied: certifi>=2017.4.17 in /opt/conda/lib/python3.11/site-packages (from requests->torchvision) (2023.7.22)\n",
      "Requirement already satisfied: mpmath>=0.19 in /opt/conda/lib/python3.11/site-packages (from sympy->torch) (1.3.0)\n",
      "Requirement already satisfied: barbar in /opt/conda/lib/python3.11/site-packages (0.2.1)\n",
      "Requirement already satisfied: torchsummary in /opt/conda/lib/python3.11/site-packages (1.5.1)\n",
      "Requirement already satisfied: pytorch-ignite in /opt/conda/lib/python3.11/site-packages (0.5.0.post2)\n",
      "Requirement already satisfied: torch<3,>=1.3 in /opt/conda/lib/python3.11/site-packages (from pytorch-ignite) (2.1.0)\n",
      "Requirement already satisfied: packaging in /opt/conda/lib/python3.11/site-packages (from pytorch-ignite) (23.2)\n",
      "Requirement already satisfied: filelock in /opt/conda/lib/python3.11/site-packages (from torch<3,>=1.3->pytorch-ignite) (3.12.4)\n",
      "Requirement already satisfied: typing-extensions in /opt/conda/lib/python3.11/site-packages (from torch<3,>=1.3->pytorch-ignite) (4.8.0)\n",
      "Requirement already satisfied: sympy in /opt/conda/lib/python3.11/site-packages (from torch<3,>=1.3->pytorch-ignite) (1.12)\n",
      "Requirement already satisfied: networkx in /opt/conda/lib/python3.11/site-packages (from torch<3,>=1.3->pytorch-ignite) (3.1)\n",
      "Requirement already satisfied: jinja2 in /opt/conda/lib/python3.11/site-packages (from torch<3,>=1.3->pytorch-ignite) (3.1.2)\n",
      "Requirement already satisfied: fsspec in /opt/conda/lib/python3.11/site-packages (from torch<3,>=1.3->pytorch-ignite) (2023.6.0)\n",
      "Requirement already satisfied: MarkupSafe>=2.0 in /opt/conda/lib/python3.11/site-packages (from jinja2->torch<3,>=1.3->pytorch-ignite) (2.1.3)\n",
      "Requirement already satisfied: mpmath>=0.19 in /opt/conda/lib/python3.11/site-packages (from sympy->torch<3,>=1.3->pytorch-ignite) (1.3.0)\n",
      "Requirement already satisfied: timm in /opt/conda/lib/python3.11/site-packages (1.0.3)\n",
      "Requirement already satisfied: torch in /opt/conda/lib/python3.11/site-packages (from timm) (2.1.0)\n",
      "Requirement already satisfied: torchvision in /opt/conda/lib/python3.11/site-packages (from timm) (0.16.0)\n",
      "Requirement already satisfied: pyyaml in /opt/conda/lib/python3.11/site-packages (from timm) (6.0.1)\n",
      "Requirement already satisfied: huggingface_hub in /opt/conda/lib/python3.11/site-packages (from timm) (0.23.0)\n",
      "Requirement already satisfied: safetensors in /opt/conda/lib/python3.11/site-packages (from timm) (0.4.3)\n",
      "Requirement already satisfied: filelock in /opt/conda/lib/python3.11/site-packages (from huggingface_hub->timm) (3.12.4)\n",
      "Requirement already satisfied: fsspec>=2023.5.0 in /opt/conda/lib/python3.11/site-packages (from huggingface_hub->timm) (2023.6.0)\n",
      "Requirement already satisfied: packaging>=20.9 in /opt/conda/lib/python3.11/site-packages (from huggingface_hub->timm) (23.2)\n",
      "Requirement already satisfied: requests in /opt/conda/lib/python3.11/site-packages (from huggingface_hub->timm) (2.31.0)\n",
      "Requirement already satisfied: tqdm>=4.42.1 in /opt/conda/lib/python3.11/site-packages (from huggingface_hub->timm) (4.66.1)\n",
      "Requirement already satisfied: typing-extensions>=3.7.4.3 in /opt/conda/lib/python3.11/site-packages (from huggingface_hub->timm) (4.8.0)\n",
      "Requirement already satisfied: sympy in /opt/conda/lib/python3.11/site-packages (from torch->timm) (1.12)\n",
      "Requirement already satisfied: networkx in /opt/conda/lib/python3.11/site-packages (from torch->timm) (3.1)\n",
      "Requirement already satisfied: jinja2 in /opt/conda/lib/python3.11/site-packages (from torch->timm) (3.1.2)\n",
      "Requirement already satisfied: numpy in /opt/conda/lib/python3.11/site-packages (from torchvision->timm) (1.24.4)\n",
      "Requirement already satisfied: pillow!=8.3.*,>=5.3.0 in /opt/conda/lib/python3.11/site-packages (from torchvision->timm) (10.0.1)\n",
      "Requirement already satisfied: MarkupSafe>=2.0 in /opt/conda/lib/python3.11/site-packages (from jinja2->torch->timm) (2.1.3)\n",
      "Requirement already satisfied: charset-normalizer<4,>=2 in /opt/conda/lib/python3.11/site-packages (from requests->huggingface_hub->timm) (3.3.0)\n",
      "Requirement already satisfied: idna<4,>=2.5 in /opt/conda/lib/python3.11/site-packages (from requests->huggingface_hub->timm) (3.4)\n",
      "Requirement already satisfied: urllib3<3,>=1.21.1 in /opt/conda/lib/python3.11/site-packages (from requests->huggingface_hub->timm) (1.26.17)\n",
      "Requirement already satisfied: certifi>=2017.4.17 in /opt/conda/lib/python3.11/site-packages (from requests->huggingface_hub->timm) (2023.7.22)\n",
      "Requirement already satisfied: mpmath>=0.19 in /opt/conda/lib/python3.11/site-packages (from sympy->torch->timm) (1.3.0)\n"
     ]
    }
   ],
   "source": [
    "# Install libraries\n",
    "\n",
    "!pip install torch torchvision tensorboard\n",
    "!pip install barbar\n",
    "!pip install torchsummary\n",
    "!pip install pytorch-ignite\n",
    "!pip install timm"
   ]
  },
  {
   "cell_type": "code",
   "execution_count": 4,
   "metadata": {
    "id": "9sq7HKYBo31x",
    "tags": []
   },
   "outputs": [],
   "source": [
    "import torch\n",
    "import os\n",
    "import random\n",
    "import torchvision\n",
    "import pandas as pd\n",
    "import torch.nn as nn\n",
    "import numpy as np\n",
    "from torchvision import transforms, datasets\n",
    "from shutil import copyfile, move\n",
    "from torch.utils.tensorboard import SummaryWriter\n",
    "import torch.optim as optim\n",
    "import matplotlib.pyplot as plt\n",
    "import seaborn as sns\n",
    "from barbar import Bar\n",
    "from torchsummary import summary\n",
    "from ignite.metrics import Accuracy\n",
    "from sklearn.metrics import confusion_matrix, ConfusionMatrixDisplay, classification_report, roc_auc_score\n",
    "import timm"
   ]
  },
  {
   "cell_type": "markdown",
   "metadata": {
    "id": "YIg7C2rTSzzJ",
    "tags": []
   },
   "source": [
    "## Data directories"
   ]
  },
  {
   "cell_type": "code",
   "execution_count": 5,
   "metadata": {
    "tags": []
   },
   "outputs": [
    {
     "name": "stdout",
     "output_type": "stream",
     "text": [
      "TRAINING SET ****************\n",
      "0.MEL --->  5733\n",
      "1.NV --->  10644\n",
      "2.BCC --->  3883\n",
      "3.AKIEC --->  2116\n",
      "4.BKL --->  3149\n",
      "5.DF --->  320\n",
      "6.VASC --->  378\n",
      "VALIDATION SET **************\n",
      "0.MEL --->  1434\n",
      "1.NV --->  2662\n",
      "2.BCC --->  971\n",
      "3.AKIEC --->  530\n",
      "4.BKL --->  788\n",
      "5.DF --->  80\n",
      "6.VASC --->  95\n",
      "TEST SET ********************\n",
      "0.MEL --->  109\n",
      "1.NV --->  770\n",
      "2.BCC --->  73\n",
      "3.AKIEC --->  31\n",
      "4.BKL --->  169\n",
      "5.DF --->  40\n",
      "6.VASC --->  30\n"
     ]
    }
   ],
   "source": [
    "traindir = '/home/jovyan/nfs/mgallazzi/datasets/LARGE_DATASET_derm_downsampled/training/'\n",
    "valdir = '/home/jovyan/nfs/mgallazzi/datasets/LARGE_DATASET_derm_downsampled/validation/'\n",
    "\n",
    "print('TRAINING SET ****************')\n",
    "print('0.MEL ---> ', len(os.listdir('/home/jovyan/nfs/mgallazzi/datasets/LARGE_DATASET_derm_downsampled/training/0.MEL/')))\n",
    "print('1.NV ---> ', len(os.listdir('/home/jovyan/nfs/mgallazzi/datasets/LARGE_DATASET_derm_downsampled/training/1.NV/')))\n",
    "print('2.BCC ---> ', len(os.listdir('/home/jovyan/nfs/mgallazzi/datasets/LARGE_DATASET_derm_downsampled/training/2.BCC/')))\n",
    "print('3.AKIEC ---> ', len(os.listdir('/home/jovyan/nfs/mgallazzi/datasets/LARGE_DATASET_derm_downsampled/training/3.AKIEC/')))\n",
    "print('4.BKL ---> ', len(os.listdir('/home/jovyan/nfs/mgallazzi/datasets/LARGE_DATASET_derm_downsampled/training/4.BKL/')))\n",
    "print('5.DF ---> ', len(os.listdir('/home/jovyan/nfs/mgallazzi/datasets/LARGE_DATASET_derm_downsampled/training/5.DF/')))\n",
    "print('6.VASC ---> ', len(os.listdir('/home/jovyan/nfs/mgallazzi/datasets/LARGE_DATASET_derm_downsampled/training/6.VASC/')))\n",
    "print('VALIDATION SET **************')\n",
    "print('0.MEL ---> ', len(os.listdir('/home/jovyan/nfs/mgallazzi/datasets/LARGE_DATASET_derm_downsampled/validation/0.MEL/')))\n",
    "print('1.NV ---> ', len(os.listdir('/home/jovyan/nfs/mgallazzi/datasets/LARGE_DATASET_derm_downsampled/validation/1.NV/')))\n",
    "print('2.BCC ---> ', len(os.listdir('/home/jovyan/nfs/mgallazzi/datasets/LARGE_DATASET_derm_downsampled/validation/2.BCC/')))\n",
    "print('3.AKIEC ---> ', len(os.listdir('/home/jovyan/nfs/mgallazzi/datasets/LARGE_DATASET_derm_downsampled/validation/3.AKIEC/')))\n",
    "print('4.BKL ---> ', len(os.listdir('/home/jovyan/nfs/mgallazzi/datasets/LARGE_DATASET_derm_downsampled/validation/4.BKL/')))\n",
    "print('5.DF ---> ', len(os.listdir('/home/jovyan/nfs/mgallazzi/datasets/LARGE_DATASET_derm_downsampled/validation/5.DF/')))\n",
    "print('6.VASC ---> ', len(os.listdir('/home/jovyan/nfs/mgallazzi/datasets/LARGE_DATASET_derm_downsampled/validation/6.VASC/')))\n",
    "print('TEST SET ********************')\n",
    "print('0.MEL ---> ', len(os.listdir('/home/jovyan/nfs/mgallazzi/datasets/HAM10k_test_noDuplicati/divided/0.MEL/')))\n",
    "print('1.NV ---> ', len(os.listdir('/home/jovyan/nfs/mgallazzi/datasets/HAM10k_test_noDuplicati/divided/1.NV/')))\n",
    "print('2.BCC ---> ', len(os.listdir('/home/jovyan/nfs/mgallazzi/datasets/HAM10k_test_noDuplicati/divided/2.BCC/')))\n",
    "print('3.AKIEC ---> ', len(os.listdir('/home/jovyan/nfs/mgallazzi/datasets/HAM10k_test_noDuplicati/divided/3.AKIEC/')))\n",
    "print('4.BKL ---> ', len(os.listdir('/home/jovyan/nfs/mgallazzi/datasets/HAM10k_test_noDuplicati/divided/4.BKL/')))\n",
    "print('5.DF ---> ', len(os.listdir('/home/jovyan/nfs/mgallazzi/datasets/HAM10k_test_noDuplicati/divided/5.DF/')))\n",
    "print('6.VASC ---> ', len(os.listdir('/home/jovyan/nfs/mgallazzi/datasets/HAM10k_test_noDuplicati/divided/6.VASC/')))"
   ]
  },
  {
   "cell_type": "markdown",
   "metadata": {
    "id": "RKzx3iKcSzzT"
   },
   "source": [
    "## Data augmentation\n",
    "#### Dataset consists of 32783 skin neoplasm photos with different sizes.\n",
    "#### Since we are using Swin Large, to get to 224x224 size, we will first resize to 224x280 and then center crop 224x224 piece.\n",
    "#### Horizontal/vertical flipping and random rotation are two more advantageous transformations. We will still obtain skin neoplasms that our model should correctly categorise even after rotating and horizontally flipping them since skin neoplasms may take on a variety of forms. These two modifications will be very beneficial to our model. They will enhance the size of our dataset, improve generalisation and avoid overfitting, and strengthen the resilience of our model—especially as some of our classes have very little representation.\n",
    "#### Additionally, we will employ ImageNet style normalisation as we will initially be utilising pretrained Swin Large ImageNet weights.\n",
    "#### Batch size will be 128.\n",
    "####"
   ]
  },
  {
   "cell_type": "code",
   "execution_count": 4,
   "metadata": {
    "id": "zxinrQSDpFLS",
    "tags": []
   },
   "outputs": [],
   "source": [
    "train_transforms = transforms.Compose([\n",
    "    transforms.Resize((224, 280)),  # Resize\n",
    "    transforms.RandomCrop((224, 224)),  #  RandomCrop\n",
    "    # transforms.Resize((224, 280)),\n",
    "    # transforms.CenterCrop((224, 224)),\n",
    "    transforms.RandomHorizontalFlip(p=0.5),\n",
    "    transforms.RandomApply([transforms.RandomAffine(degrees=0, translate=(0.1, 0.1))], p=0.5),  \n",
    "\n",
    "    # Random rotation with range of +/-10% compared to the original size\n",
    "    transforms.RandomApply(transforms=[transforms.RandomRotation(degrees=(-180, 180))], p=0.99),\n",
    "    transforms.ToTensor(),\n",
    "    transforms.Normalize(mean=[0.485, 0.456, 0.406], std=[0.229, 0.224, 0.225])\n",
    "    ])\n",
    "\n",
    "val_transforms = transforms.Compose([\n",
    "    transforms.Resize((224, 280)),  # resize\n",
    "    transforms.RandomCrop((224, 224)),  # RandomCrop\n",
    "    # transforms.Resize((224, 280)),\n",
    "    # torchvision.transforms.CenterCrop((224, 224)),\n",
    "    transforms.ToTensor(),\n",
    "    transforms.Normalize(mean=[0.485, 0.456, 0.406], std=[0.229, 0.224, 0.225])\n",
    "    ])\n",
    "\n",
    "train_dataset = datasets.ImageFolder(\n",
    "    traindir, transform=train_transforms)\n",
    "\n",
    "val_dataset = datasets.ImageFolder(\n",
    "    valdir, transform=val_transforms)"
   ]
  },
  {
   "cell_type": "code",
   "execution_count": 5,
   "metadata": {
    "id": "VfE6jd4UpFCL",
    "outputId": "a7cbea6e-2df0-46fd-fb57-03e30abaf124",
    "tags": []
   },
   "outputs": [
    {
     "name": "stdout",
     "output_type": "stream",
     "text": [
      "{'0.MEL': 0, '1.NV': 1, '2.BCC': 2, '3.AKIEC': 3, '4.BKL': 4, '5.DF': 5, '6.VASC': 6}\n",
      "{'0.MEL': 0, '1.NV': 1, '2.BCC': 2, '3.AKIEC': 3, '4.BKL': 4, '5.DF': 5, '6.VASC': 6}\n"
     ]
    }
   ],
   "source": [
    "print(val_dataset.class_to_idx)\n",
    "print(train_dataset.class_to_idx)"
   ]
  },
  {
   "cell_type": "markdown",
   "metadata": {
    "id": "FWhSCQygSzzU"
   },
   "source": [
    "## Training\n",
    "#### Next we define model, change final layer to a 7 way linear classifier, choose Cross Entropy loss function, Adam optimizer (with 0.0001 weight decay), define TensorBoard writer, and since we will be using early stopping, the epoch number will be set to 999.\n",
    "####"
   ]
  },
  {
   "cell_type": "code",
   "execution_count": 6,
   "metadata": {
    "id": "pCMQWo1dpE_M",
    "outputId": "8856118e-5cc1-4b6a-efc3-9bce1d2439f0",
    "tags": []
   },
   "outputs": [],
   "source": [
    "model = timm.create_model('swin_large_patch4_window7_224', pretrained=True, num_classes = 7)"
   ]
  },
  {
   "cell_type": "code",
   "execution_count": 7,
   "metadata": {
    "tags": []
   },
   "outputs": [],
   "source": [
    "num_classes = 7  # number of classes in our model\n",
    "\n",
    "in_features = model.head.in_features  # Get the input size of the last linear layer\n",
    "model.head.fc = nn.Linear(in_features, num_classes)\n",
    "\n",
    "# Opzionale: Congelamento dei layers\n",
    "for param in model.parameters():\n",
    "    param.requires_grad = True # Unfreezing\n",
    "\n",
    "# Unfreezing of the last layer\n",
    "for param in model.head.parameters():\n",
    "    param.requires_grad = True"
   ]
  },
  {
   "cell_type": "code",
   "execution_count": 8,
   "metadata": {
    "id": "4gMODuddjaVl",
    "outputId": "a7fc940f-f241-4e1b-aa62-5de181531cf6"
   },
   "outputs": [],
   "source": [
    "# Shows info about model\n",
    "# summary(model, input_size=(3, 224, 224))"
   ]
  },
  {
   "cell_type": "code",
   "execution_count": 9,
   "metadata": {
    "tags": []
   },
   "outputs": [
    {
     "name": "stdout",
     "output_type": "stream",
     "text": [
      "Output shape: torch.Size([1, 7])\n"
     ]
    }
   ],
   "source": [
    "import torch\n",
    "\n",
    "# Create a dummy input tensor of the correct size (e.g., for an image size of 224x224)\n",
    "dummy_input = torch.randn(1, 3, 224, 224)  # Batch size of 1\n",
    "\n",
    "# Forward pass through the model\n",
    "output = model(dummy_input)\n",
    "\n",
    "print(f\"Output shape: {output.shape}\")"
   ]
  },
  {
   "cell_type": "markdown",
   "metadata": {
    "id": "pSSsCalmSzzV"
   },
   "source": [
    "\n",
    "#### Early stopping reduces validation loss, and 20 was selected as the patience threshold. This large number is justified because, during the project's development, the model was trained in other experiments. After different experiemnts, we saw the model continues to gradually reduce training loss without overfitting; however, validation loss moves rather stochastically, so in order to avoid stopping the model too soon, a 20-epoch patience period was chosen.\n",
    "####"
   ]
  },
  {
   "cell_type": "code",
   "execution_count": 10,
   "metadata": {},
   "outputs": [],
   "source": [
    "# from torch.cuda.amp import GradScaler, autocast\n",
    "# scaler = GradScaler()"
   ]
  },
  {
   "cell_type": "code",
   "execution_count": 11,
   "metadata": {
    "id": "n3of0fhypE8O",
    "outputId": "94a44f1b-92b2-46f7-b60e-2f7fad958193",
    "tags": []
   },
   "outputs": [
    {
     "name": "stdout",
     "output_type": "stream",
     "text": [
      "Start training...\n"
     ]
    },
    {
     "name": "stderr",
     "output_type": "stream",
     "text": [
      "/opt/conda/lib/python3.11/site-packages/torch/nn/modules/conv.py:456: UserWarning: Applied workaround for CuDNN issue, install nvrtc.so (Triggered internally at /opt/conda/conda-bld/pytorch_1695392026823/work/aten/src/ATen/native/cudnn/Conv_v8.cpp:80.)\n",
      "  return F.conv2d(input, weight, bias, self.stride,\n"
     ]
    },
    {
     "name": "stdout",
     "output_type": "stream",
     "text": [
      "Start validation...\n",
      "Epoch 1, Train Loss: 0.7690, Train Acc: 0.7122, Val Loss: 0.5290, Val Acc: 0.8052\n",
      "Validation loss decreased, saving model...\n",
      "Start training...\n",
      "Start validation...\n",
      "Epoch 2, Train Loss: 0.5313, Train Acc: 0.8021, Val Loss: 0.3931, Val Acc: 0.8572\n",
      "Validation loss decreased, saving model...\n",
      "Start training...\n",
      "Start validation...\n",
      "Epoch 3, Train Loss: 0.4220, Train Acc: 0.8422, Val Loss: 0.3002, Val Acc: 0.8922\n",
      "Validation loss decreased, saving model...\n",
      "Start training...\n",
      "Start validation...\n",
      "Epoch 4, Train Loss: 0.3423, Train Acc: 0.8710, Val Loss: 0.2136, Val Acc: 0.9250\n",
      "Validation loss decreased, saving model...\n",
      "Start training...\n",
      "Start validation...\n",
      "Epoch 5, Train Loss: 0.2680, Train Acc: 0.9006, Val Loss: 0.1843, Val Acc: 0.9325\n",
      "Validation loss decreased, saving model...\n",
      "Start training...\n",
      "Start validation...\n",
      "Epoch 6, Train Loss: 0.2092, Train Acc: 0.9248, Val Loss: 0.1300, Val Acc: 0.9521\n",
      "Validation loss decreased, saving model...\n",
      "Start training...\n",
      "Start validation...\n",
      "Epoch 7, Train Loss: 0.1635, Train Acc: 0.9411, Val Loss: 0.0851, Val Acc: 0.9697\n",
      "Validation loss decreased, saving model...\n",
      "Start training...\n",
      "Start validation...\n",
      "Epoch 8, Train Loss: 0.1300, Train Acc: 0.9519, Val Loss: 0.0670, Val Acc: 0.9776\n",
      "Validation loss decreased, saving model...\n",
      "Start training...\n",
      "Start validation...\n",
      "Epoch 9, Train Loss: 0.1112, Train Acc: 0.9593, Val Loss: 0.0566, Val Acc: 0.9785\n",
      "Validation loss decreased, saving model...\n",
      "Start training...\n",
      "Start validation...\n",
      "Epoch 10, Train Loss: 0.0879, Train Acc: 0.9696, Val Loss: 0.0418, Val Acc: 0.9861\n",
      "Validation loss decreased, saving model...\n",
      "Start training...\n",
      "Start validation...\n",
      "Epoch 11, Train Loss: 0.0786, Train Acc: 0.9722, Val Loss: 0.0413, Val Acc: 0.9861\n",
      "Validation loss decreased, saving model...\n",
      "Start training...\n",
      "Start validation...\n",
      "Epoch 12, Train Loss: 0.0697, Train Acc: 0.9744, Val Loss: 0.0359, Val Acc: 0.9849\n",
      "Validation loss decreased, saving model...\n",
      "Start training...\n",
      "Start validation...\n",
      "Epoch 13, Train Loss: 0.0724, Train Acc: 0.9746, Val Loss: 0.0334, Val Acc: 0.9889\n",
      "Validation loss decreased, saving model...\n",
      "Start training...\n",
      "Start validation...\n",
      "Epoch 14, Train Loss: 0.0601, Train Acc: 0.9789, Val Loss: 0.0395, Val Acc: 0.9869\n",
      "Start training...\n",
      "Start validation...\n",
      "Epoch 15, Train Loss: 0.0477, Train Acc: 0.9834, Val Loss: 0.0221, Val Acc: 0.9916\n",
      "Validation loss decreased, saving model...\n",
      "Start training...\n",
      "Start validation...\n",
      "Epoch 16, Train Loss: 0.0513, Train Acc: 0.9817, Val Loss: 0.0227, Val Acc: 0.9921\n",
      "Start training...\n",
      "Start validation...\n",
      "Epoch 17, Train Loss: 0.0454, Train Acc: 0.9848, Val Loss: 0.0172, Val Acc: 0.9939\n",
      "Validation loss decreased, saving model...\n",
      "Start training...\n",
      "Start validation...\n",
      "Epoch 18, Train Loss: 0.0499, Train Acc: 0.9822, Val Loss: 0.0193, Val Acc: 0.9942\n",
      "Start training...\n",
      "Start validation...\n",
      "Epoch 19, Train Loss: 0.0400, Train Acc: 0.9863, Val Loss: 0.0291, Val Acc: 0.9896\n",
      "Start training...\n",
      "Start validation...\n",
      "Epoch 20, Train Loss: 0.0479, Train Acc: 0.9845, Val Loss: 0.0268, Val Acc: 0.9902\n",
      "Start training...\n",
      "Start validation...\n",
      "Epoch 21, Train Loss: 0.0405, Train Acc: 0.9863, Val Loss: 0.0164, Val Acc: 0.9945\n",
      "Validation loss decreased, saving model...\n",
      "Start training...\n",
      "Start validation...\n",
      "Epoch 22, Train Loss: 0.0358, Train Acc: 0.9876, Val Loss: 0.0111, Val Acc: 0.9962\n",
      "Validation loss decreased, saving model...\n",
      "Start training...\n",
      "Start validation...\n",
      "Epoch 23, Train Loss: 0.0466, Train Acc: 0.9838, Val Loss: 0.0206, Val Acc: 0.9925\n",
      "Start training...\n",
      "Start validation...\n",
      "Epoch 24, Train Loss: 0.0425, Train Acc: 0.9857, Val Loss: 0.0225, Val Acc: 0.9936\n",
      "Start training...\n",
      "Start validation...\n",
      "Epoch 25, Train Loss: 0.0286, Train Acc: 0.9900, Val Loss: 0.0098, Val Acc: 0.9966\n",
      "Validation loss decreased, saving model...\n",
      "Start training...\n",
      "Start validation...\n",
      "Epoch 26, Train Loss: 0.0305, Train Acc: 0.9901, Val Loss: 0.0183, Val Acc: 0.9927\n",
      "Start training...\n",
      "Start validation...\n",
      "Epoch 27, Train Loss: 0.0289, Train Acc: 0.9908, Val Loss: 0.0122, Val Acc: 0.9957\n",
      "Start training...\n",
      "Start validation...\n",
      "Epoch 28, Train Loss: 0.0298, Train Acc: 0.9909, Val Loss: 0.0097, Val Acc: 0.9966\n",
      "Validation loss decreased, saving model...\n",
      "Start training...\n",
      "Start validation...\n",
      "Epoch 29, Train Loss: 0.0253, Train Acc: 0.9919, Val Loss: 0.0108, Val Acc: 0.9962\n",
      "Start training...\n",
      "Start validation...\n",
      "Epoch 30, Train Loss: 0.0338, Train Acc: 0.9890, Val Loss: 0.0155, Val Acc: 0.9947\n",
      "Start training...\n",
      "Start validation...\n",
      "Epoch 31, Train Loss: 0.0305, Train Acc: 0.9903, Val Loss: 0.0091, Val Acc: 0.9974\n",
      "Validation loss decreased, saving model...\n",
      "Start training...\n",
      "Start validation...\n",
      "Epoch 32, Train Loss: 0.0288, Train Acc: 0.9903, Val Loss: 0.0096, Val Acc: 0.9973\n",
      "Start training...\n",
      "Start validation...\n",
      "Epoch 33, Train Loss: 0.0325, Train Acc: 0.9894, Val Loss: 0.0157, Val Acc: 0.9947\n",
      "Start training...\n",
      "Start validation...\n",
      "Epoch 34, Train Loss: 0.0305, Train Acc: 0.9891, Val Loss: 0.0214, Val Acc: 0.9924\n",
      "Start training...\n",
      "Start validation...\n",
      "Epoch 35, Train Loss: 0.0339, Train Acc: 0.9883, Val Loss: 0.0104, Val Acc: 0.9966\n",
      "Start training...\n",
      "Start validation...\n",
      "Epoch 36, Train Loss: 0.0232, Train Acc: 0.9916, Val Loss: 0.0141, Val Acc: 0.9954\n",
      "Start training...\n",
      "Start validation...\n",
      "Epoch 37, Train Loss: 0.0308, Train Acc: 0.9895, Val Loss: 0.0161, Val Acc: 0.9945\n",
      "Start training...\n",
      "Start validation...\n",
      "Epoch 38, Train Loss: 0.0241, Train Acc: 0.9921, Val Loss: 0.0136, Val Acc: 0.9962\n",
      "Start training...\n",
      "Start validation...\n",
      "Epoch 39, Train Loss: 0.0279, Train Acc: 0.9907, Val Loss: 0.0090, Val Acc: 0.9977\n",
      "Validation loss decreased, saving model...\n",
      "Start training...\n",
      "Start validation...\n",
      "Epoch 40, Train Loss: 0.0260, Train Acc: 0.9912, Val Loss: 0.0077, Val Acc: 0.9976\n",
      "Validation loss decreased, saving model...\n",
      "Start training...\n",
      "Start validation...\n",
      "Epoch 41, Train Loss: 0.0263, Train Acc: 0.9915, Val Loss: 0.0132, Val Acc: 0.9956\n",
      "Start training...\n",
      "Start validation...\n",
      "Epoch 42, Train Loss: 0.0180, Train Acc: 0.9942, Val Loss: 0.0058, Val Acc: 0.9979\n",
      "Validation loss decreased, saving model...\n",
      "Start training...\n",
      "Start validation...\n",
      "Epoch 43, Train Loss: 0.0217, Train Acc: 0.9919, Val Loss: 0.0090, Val Acc: 0.9968\n",
      "Start training...\n",
      "Start validation...\n",
      "Epoch 44, Train Loss: 0.0274, Train Acc: 0.9910, Val Loss: 0.0133, Val Acc: 0.9971\n",
      "Start training...\n",
      "Start validation...\n",
      "Epoch 45, Train Loss: 0.0287, Train Acc: 0.9904, Val Loss: 0.0064, Val Acc: 0.9977\n",
      "Start training...\n",
      "Start validation...\n",
      "Epoch 46, Train Loss: 0.0241, Train Acc: 0.9917, Val Loss: 0.0083, Val Acc: 0.9976\n",
      "Start training...\n",
      "Start validation...\n",
      "Epoch 47, Train Loss: 0.0195, Train Acc: 0.9932, Val Loss: 0.0176, Val Acc: 0.9942\n",
      "Start training...\n",
      "Start validation...\n",
      "Epoch 48, Train Loss: 0.0209, Train Acc: 0.9933, Val Loss: 0.0109, Val Acc: 0.9963\n",
      "Start training...\n",
      "Start validation...\n",
      "Epoch 49, Train Loss: 0.0227, Train Acc: 0.9923, Val Loss: 0.0126, Val Acc: 0.9973\n",
      "Start training...\n",
      "Start validation...\n",
      "Epoch 50, Train Loss: 0.0193, Train Acc: 0.9932, Val Loss: 0.0100, Val Acc: 0.9974\n",
      "Start training...\n",
      "Start validation...\n",
      "Epoch 51, Train Loss: 0.0304, Train Acc: 0.9902, Val Loss: 0.0126, Val Acc: 0.9962\n",
      "Start training...\n",
      "Start validation...\n",
      "Epoch 52, Train Loss: 0.0254, Train Acc: 0.9915, Val Loss: 0.0083, Val Acc: 0.9970\n",
      "Start training...\n",
      "Start validation...\n",
      "Epoch 53, Train Loss: 0.0170, Train Acc: 0.9942, Val Loss: 0.0055, Val Acc: 0.9982\n",
      "Validation loss decreased, saving model...\n",
      "Start training...\n",
      "Start validation...\n",
      "Epoch 54, Train Loss: 0.0160, Train Acc: 0.9950, Val Loss: 0.0061, Val Acc: 0.9982\n",
      "Start training...\n",
      "Start validation...\n",
      "Epoch 55, Train Loss: 0.0168, Train Acc: 0.9943, Val Loss: 0.0111, Val Acc: 0.9968\n",
      "Start training...\n",
      "Start validation...\n",
      "Epoch 56, Train Loss: 0.0176, Train Acc: 0.9942, Val Loss: 0.0091, Val Acc: 0.9982\n",
      "Start training...\n",
      "Start validation...\n",
      "Epoch 57, Train Loss: 0.0249, Train Acc: 0.9913, Val Loss: 0.0210, Val Acc: 0.9951\n",
      "Start training...\n",
      "Start validation...\n",
      "Epoch 58, Train Loss: 0.0212, Train Acc: 0.9934, Val Loss: 0.0115, Val Acc: 0.9956\n",
      "Start training...\n",
      "Start validation...\n",
      "Epoch 59, Train Loss: 0.0215, Train Acc: 0.9930, Val Loss: 0.0067, Val Acc: 0.9980\n",
      "Start training...\n",
      "Start validation...\n",
      "Epoch 60, Train Loss: 0.0180, Train Acc: 0.9939, Val Loss: 0.0142, Val Acc: 0.9953\n",
      "Start training...\n",
      "Start validation...\n",
      "Epoch 61, Train Loss: 0.0192, Train Acc: 0.9937, Val Loss: 0.0094, Val Acc: 0.9973\n",
      "Start training...\n",
      "Start validation...\n",
      "Epoch 62, Train Loss: 0.0197, Train Acc: 0.9941, Val Loss: 0.0067, Val Acc: 0.9982\n",
      "Start training...\n",
      "Start validation...\n",
      "Epoch 63, Train Loss: 0.0161, Train Acc: 0.9947, Val Loss: 0.0052, Val Acc: 0.9991\n",
      "Validation loss decreased, saving model...\n",
      "Start training...\n",
      "Start validation...\n",
      "Epoch 64, Train Loss: 0.0157, Train Acc: 0.9943, Val Loss: 0.0075, Val Acc: 0.9976\n",
      "Start training...\n",
      "Start validation...\n",
      "Epoch 65, Train Loss: 0.0182, Train Acc: 0.9941, Val Loss: 0.0111, Val Acc: 0.9968\n",
      "Start training...\n",
      "Start validation...\n",
      "Epoch 66, Train Loss: 0.0221, Train Acc: 0.9928, Val Loss: 0.0101, Val Acc: 0.9963\n",
      "Start training...\n",
      "Start validation...\n",
      "Epoch 67, Train Loss: 0.0170, Train Acc: 0.9948, Val Loss: 0.0062, Val Acc: 0.9980\n",
      "Start training...\n",
      "Start validation...\n",
      "Epoch 68, Train Loss: 0.0229, Train Acc: 0.9922, Val Loss: 0.0108, Val Acc: 0.9963\n",
      "Start training...\n",
      "Start validation...\n",
      "Epoch 69, Train Loss: 0.0189, Train Acc: 0.9933, Val Loss: 0.0080, Val Acc: 0.9973\n",
      "Start training...\n",
      "Start validation...\n",
      "Epoch 70, Train Loss: 0.0190, Train Acc: 0.9938, Val Loss: 0.0066, Val Acc: 0.9974\n",
      "Start training...\n",
      "Start validation...\n",
      "Epoch 71, Train Loss: 0.0199, Train Acc: 0.9936, Val Loss: 0.0097, Val Acc: 0.9971\n",
      "Start training...\n",
      "Start validation...\n",
      "Epoch 72, Train Loss: 0.0212, Train Acc: 0.9930, Val Loss: 0.0044, Val Acc: 0.9986\n",
      "Validation loss decreased, saving model...\n",
      "Start training...\n",
      "Start validation...\n",
      "Epoch 73, Train Loss: 0.0163, Train Acc: 0.9947, Val Loss: 0.0090, Val Acc: 0.9974\n",
      "Start training...\n",
      "Start validation...\n",
      "Epoch 74, Train Loss: 0.0120, Train Acc: 0.9961, Val Loss: 0.0044, Val Acc: 0.9982\n",
      "Start training...\n",
      "Start validation...\n",
      "Epoch 75, Train Loss: 0.0135, Train Acc: 0.9958, Val Loss: 0.0163, Val Acc: 0.9947\n",
      "Start training...\n",
      "Start validation...\n",
      "Epoch 76, Train Loss: 0.0185, Train Acc: 0.9944, Val Loss: 0.0065, Val Acc: 0.9979\n",
      "Start training...\n",
      "Start validation...\n",
      "Epoch 77, Train Loss: 0.0182, Train Acc: 0.9940, Val Loss: 0.0092, Val Acc: 0.9970\n",
      "Start training...\n",
      "Start validation...\n",
      "Epoch 78, Train Loss: 0.0160, Train Acc: 0.9949, Val Loss: 0.0023, Val Acc: 0.9994\n",
      "Validation loss decreased, saving model...\n",
      "Start training...\n",
      "Start validation...\n",
      "Epoch 79, Train Loss: 0.0120, Train Acc: 0.9958, Val Loss: 0.0048, Val Acc: 0.9986\n",
      "Start training...\n",
      "Start validation...\n",
      "Epoch 80, Train Loss: 0.0174, Train Acc: 0.9942, Val Loss: 0.0044, Val Acc: 0.9985\n",
      "Start training...\n",
      "Start validation...\n",
      "Epoch 81, Train Loss: 0.0161, Train Acc: 0.9941, Val Loss: 0.0046, Val Acc: 0.9986\n",
      "Start training...\n",
      "Start validation...\n",
      "Epoch 82, Train Loss: 0.0133, Train Acc: 0.9955, Val Loss: 0.0036, Val Acc: 0.9992\n",
      "Start training...\n",
      "Start validation...\n",
      "Epoch 83, Train Loss: 0.0187, Train Acc: 0.9935, Val Loss: 0.0034, Val Acc: 0.9988\n",
      "Start training...\n",
      "Start validation...\n",
      "Epoch 84, Train Loss: 0.0154, Train Acc: 0.9949, Val Loss: 0.0043, Val Acc: 0.9983\n",
      "Start training...\n",
      "Start validation...\n",
      "Epoch 85, Train Loss: 0.0162, Train Acc: 0.9944, Val Loss: 0.0100, Val Acc: 0.9973\n",
      "Start training...\n",
      "Start validation...\n",
      "Epoch 86, Train Loss: 0.0166, Train Acc: 0.9941, Val Loss: 0.0096, Val Acc: 0.9971\n",
      "Start training...\n",
      "Start validation...\n",
      "Epoch 87, Train Loss: 0.0134, Train Acc: 0.9958, Val Loss: 0.0037, Val Acc: 0.9983\n",
      "Start training...\n",
      "Start validation...\n",
      "Epoch 88, Train Loss: 0.0145, Train Acc: 0.9953, Val Loss: 0.0062, Val Acc: 0.9976\n",
      "Start training...\n",
      "Start validation...\n",
      "Epoch 89, Train Loss: 0.0097, Train Acc: 0.9965, Val Loss: 0.0049, Val Acc: 0.9983\n",
      "Start training...\n",
      "Start validation...\n",
      "Epoch 90, Train Loss: 0.0187, Train Acc: 0.9941, Val Loss: 0.0084, Val Acc: 0.9971\n",
      "Start training...\n",
      "Start validation...\n",
      "Epoch 91, Train Loss: 0.0180, Train Acc: 0.9946, Val Loss: 0.0051, Val Acc: 0.9983\n",
      "Start training...\n",
      "Start validation...\n",
      "Epoch 92, Train Loss: 0.0127, Train Acc: 0.9955, Val Loss: 0.0101, Val Acc: 0.9965\n",
      "Start training...\n",
      "Start validation...\n",
      "Epoch 93, Train Loss: 0.0147, Train Acc: 0.9949, Val Loss: 0.0113, Val Acc: 0.9965\n",
      "Early stopping triggered\n"
     ]
    }
   ],
   "source": [
    "# from timm.loss import LabelSmoothingCrossEntropy\n",
    "from torch.utils.data import DataLoader\n",
    "\n",
    "batch_size = 128\n",
    "\n",
    "train_loader = DataLoader(train_dataset, batch_size=batch_size, shuffle=True, num_workers=1)\n",
    "val_loader = DataLoader(val_dataset, batch_size=batch_size, shuffle=False, num_workers=1)\n",
    "\n",
    "device = torch.device(\"cuda:0\" if torch.cuda.is_available() else \"cpu\")\n",
    "\n",
    "model = model.to(device)\n",
    "\n",
    "optimizer = optim.Adam(model.parameters(), lr=1e-4)\n",
    "criterion = nn.CrossEntropyLoss()\n",
    "\n",
    "def train_one_epoch(model, train_loader, criterion, optimizer, device):\n",
    "    print('Start training...')\n",
    "    model.train()\n",
    "    running_loss = 0.0\n",
    "    correct = 0\n",
    "    total = 0\n",
    "    for inputs, labels in train_loader:\n",
    "        \n",
    "        inputs, labels = inputs.to(device), labels.to(device)\n",
    "        optimizer.zero_grad()\n",
    "        outputs = model(inputs)\n",
    "        outputs = outputs.view(outputs.size(0), -1)\n",
    "            \n",
    "        # print('Shape of outputs: ' , outputs.shape)\n",
    "        # print('Shape of labels: ' , labels.shape)\n",
    "        \n",
    "        loss = criterion(outputs, labels)\n",
    "        \n",
    "        loss.backward()\n",
    "        optimizer.step()\n",
    "        \n",
    "        running_loss += loss.item()\n",
    "        _, predicted = torch.max(outputs.data, 1)\n",
    "        total += labels.size(0)\n",
    "        correct += (predicted == labels).sum().item()\n",
    "        \n",
    "    train_loss = running_loss / len(train_loader)\n",
    "    train_acc = correct / total\n",
    "    return train_loss, train_acc\n",
    "\n",
    "def validate(model, val_loader, criterion, device):\n",
    "    print('Start validation...')\n",
    "    model.eval()\n",
    "    running_loss = 0.0\n",
    "    correct = 0\n",
    "    total = 0\n",
    "    all_labels = []\n",
    "    all_predictions = []\n",
    "    with torch.no_grad():\n",
    "        for inputs, labels in val_loader:\n",
    "            inputs, labels = inputs.to(device), labels.to(device)\n",
    "            \n",
    "            outputs = model(inputs)\n",
    "            outputs = outputs.view(outputs.size(0), -1)\n",
    "            \n",
    "            loss = criterion(outputs, labels)\n",
    "            \n",
    "            running_loss += loss.item()\n",
    "            _, predicted = torch.max(outputs.data, 1)\n",
    "            total += labels.size(0)\n",
    "            correct += (predicted == labels).sum().item()\n",
    "            \n",
    "            all_labels.extend(labels.cpu().numpy())\n",
    "            all_predictions.extend(predicted.cpu().numpy())\n",
    "            \n",
    "    val_loss = running_loss / len(val_loader)\n",
    "    val_acc = correct / total\n",
    "    return val_loss, val_acc, all_labels, all_predictions\n",
    "\n",
    "best_val_loss = float('inf')\n",
    "early_stopping_counter = 0\n",
    "\n",
    "train_losses = []\n",
    "val_losses = []\n",
    "train_accuracies = []\n",
    "val_accuracies = []\n",
    "\n",
    "for epoch in range(999):  # Set the number of epochs\n",
    "    train_loss, train_acc = train_one_epoch(model, train_loader, criterion, optimizer, device)\n",
    "    val_loss, val_acc, all_labels, all_predictions = validate(model, val_loader, criterion, device)\n",
    "    \n",
    "    train_losses.append(train_loss)\n",
    "    val_losses.append(val_loss)\n",
    "    train_accuracies.append(train_acc)\n",
    "    val_accuracies.append(val_acc)\n",
    "    \n",
    "    print(f'Epoch {epoch+1}, Train Loss: {train_loss:.4f}, Train Acc: {train_acc:.4f}, Val Loss: {val_loss:.4f}, Val Acc: {val_acc:.4f}')\n",
    "    \n",
    "    if val_loss < best_val_loss:\n",
    "        print(\"Validation loss decreased, saving model...\")\n",
    "        best_val_loss = val_loss\n",
    "        torch.save(model.state_dict(), r'/home/jovyan/nfs/sbiavaschi/output/swin_large_derm_noDuplNv_pretrained.pt')\n",
    "        early_stopping_counter = 0\n",
    "    else:\n",
    "        early_stopping_counter += 1\n",
    "        \n",
    "    if early_stopping_counter >= 20:\n",
    "        print(\"Early stopping triggered\")\n",
    "        break\n"
   ]
  },
  {
   "cell_type": "markdown",
   "metadata": {
    "id": "mdKEr9UiSzzX"
   },
   "source": [
    "\n",
    "## Results\n",
    "#### Model stopped training after 93 epochs.\n",
    "\n",
    "####\n",
    "#### Now we will look at confusion matrix and classification report with Precision, Recall, and F1 score.\n",
    "####"
   ]
  },
  {
   "cell_type": "code",
   "execution_count": 11,
   "metadata": {
    "tags": []
   },
   "outputs": [],
   "source": [
    "# Function to plot confusion matrix\n",
    "def plot_confusion_matrix(conf_matrix, class_names):\n",
    "    fig, ax = plt.subplots(figsize=(10, 10))\n",
    "    sns.heatmap(conf_matrix, annot=True, fmt='d', ax=ax, cmap='Blues', cbar=False)\n",
    "    ax.set_xlabel('Predicted labels')\n",
    "    ax.set_ylabel('True labels')\n",
    "    ax.set_title('Confusion Matrix')\n",
    "    ax.set_xticklabels(class_names)\n",
    "    ax.set_yticklabels(class_names)\n",
    "    plt.xticks(rotation=45)\n",
    "    plt.yticks(rotation=45)\n",
    "    plt.show()\n",
    "\n",
    "# Function to plot training and validation accuracy and loss\n",
    "def plot_metrics(train_accuracies, val_accuracies, train_losses, val_losses):\n",
    "    epochs = range(1, len(train_accuracies) + 1)\n",
    "    plt.figure(figsize=(12, 5))\n",
    "    \n",
    "    plt.subplot(1, 2, 1)\n",
    "    plt.plot(epochs, train_accuracies, label='Training Accuracy')\n",
    "    plt.plot(epochs, val_accuracies, label='Validation Accuracy')\n",
    "    plt.title('Training and Validation Accuracy')\n",
    "    plt.xlabel('Epoch')\n",
    "    plt.ylabel('Accuracy')\n",
    "    plt.legend()\n",
    "    \n",
    "    plt.subplot(1, 2, 2)\n",
    "    plt.plot(epochs, train_losses, label='Training Loss')\n",
    "    plt.plot(epochs, val_losses, label='Validation Loss')\n",
    "    plt.title('Training and Validation Loss')\n",
    "    plt.xlabel('Epoch')\n",
    "    plt.ylabel('Loss')\n",
    "    plt.legend()\n",
    "    \n",
    "    plt.tight_layout()\n",
    "    plt.show()"
   ]
  },
  {
   "cell_type": "code",
   "execution_count": 13,
   "metadata": {
    "tags": []
   },
   "outputs": [
    {
     "data": {
      "image/png": "[encoded data removed]",
      "text/plain": [
       "<Figure size 1200x500 with 2 Axes>"
      ]
     },
     "metadata": {},
     "output_type": "display_data"
    },
    {
     "data": {
      "image/png": "[encoded data removed]",
      "text/plain": [
       "<Figure size 1000x1000 with 1 Axes>"
      ]
     },
     "metadata": {},
     "output_type": "display_data"
    },
    {
     "name": "stdout",
     "output_type": "stream",
     "text": [
      "              precision    recall  f1-score   support\n",
      "\n",
      "       0.MEL       1.00      1.00      1.00      1434\n",
      "        1.NV       1.00      1.00      1.00      2662\n",
      "       2.BCC       1.00      1.00      1.00       971\n",
      "     3.AKIEC       1.00      0.98      0.99       530\n",
      "       4.BKL       0.98      1.00      0.99       788\n",
      "        5.DF       1.00      1.00      1.00        80\n",
      "      6.VASC       0.99      1.00      0.99        95\n",
      "\n",
      "    accuracy                           1.00      6560\n",
      "   macro avg       1.00      1.00      1.00      6560\n",
      "weighted avg       1.00      1.00      1.00      6560\n",
      "\n"
     ]
    }
   ],
   "source": [
    "# After training completes, plot the metrics and confusion matrix\n",
    "plot_metrics(train_accuracies, val_accuracies, train_losses, val_losses)\n",
    "\n",
    "# Confusion Matrix\n",
    "conf_matrix = confusion_matrix(all_labels, all_predictions)\n",
    "\n",
    "# Convert all_labels and all_predictions to the correct format if necessary\n",
    "class_names = val_dataset.classes\n",
    "plot_confusion_matrix(conf_matrix, class_names)\n",
    "\n",
    "print(classification_report(all_labels, all_predictions, target_names=class_names))"
   ]
  },
  {
   "cell_type": "markdown",
   "metadata": {
    "id": "XjYATYLjSzzY"
   },
   "source": [
    "## Test\n",
    "#### We use the test dataset discussed in the paper (HAM Test) to see how the model ranks never-before-seen images. The dataset consists of 1511 images divided into seven classes.\n",
    "####"
   ]
  },
  {
   "cell_type": "code",
   "execution_count": 14,
   "metadata": {
    "tags": []
   },
   "outputs": [],
   "source": [
    "#testdir = r'/home/jovyan/nfs/mgallazzi/datasets/HAM10k_test_noDuplicati/divided/'\n",
    "testdir = r'/home/jovyan/nfs/mgallazzi/datasets/HAM10k_test_Duplicati/divided/'"
   ]
  },
  {
   "cell_type": "code",
   "execution_count": 15,
   "metadata": {
    "id": "ba_3orxRWrNH",
    "tags": []
   },
   "outputs": [],
   "source": [
    "test_transforms = transforms.Compose([\n",
    "    # transforms.Resize((224, 224)),\n",
    "    transforms.Resize((224, 300)),\n",
    "    torchvision.transforms.CenterCrop((224, 224)),\n",
    "    transforms.ToTensor(),\n",
    "    transforms.Normalize(mean=[0.485, 0.456, 0.406], std=[0.229, 0.224, 0.225])\n",
    "    ])\n",
    "\n",
    "test_dataset = datasets.ImageFolder(\n",
    "    testdir, transform=test_transforms)"
   ]
  },
  {
   "cell_type": "code",
   "execution_count": 16,
   "metadata": {
    "tags": []
   },
   "outputs": [],
   "source": [
    "test_loader = torch.utils.data.DataLoader(\n",
    "    test_dataset, batch_size=32, shuffle=True,\n",
    "    pin_memory=False, drop_last=False)"
   ]
  },
  {
   "cell_type": "code",
   "execution_count": 17,
   "metadata": {
    "tags": []
   },
   "outputs": [
    {
     "name": "stdout",
     "output_type": "stream",
     "text": [
      "{'0.MEL': 0, '1.NV': 1, '2.BCC': 2, '3.AKIEC': 3, '4.BKL': 4, '5.DF': 5, '6.VASC': 6}\n"
     ]
    }
   ],
   "source": [
    "print(test_dataset.class_to_idx)"
   ]
  },
  {
   "cell_type": "code",
   "execution_count": 18,
   "metadata": {
    "id": "2knpgw_BWSPA",
    "outputId": "8514d1c1-bb17-43a3-c81e-dc69138fb4ec",
    "tags": []
   },
   "outputs": [
    {
     "data": {
      "image/png": "[encoded data removed]",
      "text/plain": [
       "<Figure size 1000x1000 with 1 Axes>"
      ]
     },
     "metadata": {},
     "output_type": "display_data"
    },
    {
     "name": "stdout",
     "output_type": "stream",
     "text": [
      "              precision    recall  f1-score   support\n",
      "\n",
      "       0.MEL       0.64      0.73      0.68       171\n",
      "        1.NV       0.93      0.94      0.93       908\n",
      "       2.BCC       0.79      0.88      0.83        93\n",
      "     3.AKIEC       0.66      0.67      0.67        43\n",
      "       4.BKL       0.85      0.75      0.80       217\n",
      "        5.DF       0.91      0.70      0.79        44\n",
      "      6.VASC       1.00      0.80      0.89        35\n",
      "\n",
      "    accuracy                           0.86      1511\n",
      "   macro avg       0.82      0.78      0.80      1511\n",
      "weighted avg       0.87      0.86      0.86      1511\n",
      "\n"
     ]
    }
   ],
   "source": [
    "import torchvision.models as models\n",
    "\n",
    "num_classes = 7\n",
    "\n",
    "# Define the device\n",
    "device = torch.device(\"cuda\" if torch.cuda.is_available() else \"cpu\")\n",
    "\n",
    "# Initialize the model\n",
    "model = timm.create_model('swin_large_patch4_window7_224', pretrained=False) # pretrained=False since we'll load custom weights\n",
    "\n",
    "# Modify the last layer to match the training architecture\n",
    "in_features = model.head.in_features  # Get the input size of the last linear layer\n",
    "model.head.fc = nn.Linear(in_features, num_classes)  # Replace the old layer with a new one\n",
    "\n",
    "# Load the trained model weights\n",
    "model_path = '/home/jovyan/nfs/sbiavaschi/output/swin_large_derm_noDuplNv_pretrained.pt'\n",
    "model.load_state_dict(torch.load(model_path, map_location=device))\n",
    "\n",
    "# Move the model to the appropriate device\n",
    "model = model.to(device)\n",
    "\n",
    "# Make sure to put the model in evaluation mode\n",
    "model.eval()\n",
    "\n",
    "predlist_test=torch.zeros(0,dtype=torch.long, device='cpu')\n",
    "lbllist_test=torch.zeros(0,dtype=torch.long, device='cpu')\n",
    "predlistauc_test = torch.zeros(0,dtype=torch.long, device='cpu')\n",
    "with torch.no_grad():\n",
    "    for i, (inputs, classes) in enumerate(test_loader):\n",
    "        model.eval()  # evaluation mod.\n",
    "        inputs = inputs.to(device)\n",
    "        classes = classes.to(device)\n",
    "        outputs = model(inputs)\n",
    "        outputs = outputs.view(outputs.size(0), -1)\n",
    "        _, preds = torch.max(outputs, 1)\n",
    "\n",
    "        # Append batch prediction results\n",
    "        predlist_test = torch.cat([predlist_test, preds.view(-1).cpu()])\n",
    "        lbllist_test = torch.cat([lbllist_test, classes.view(-1).cpu()])\n",
    "        predlistauc_test = torch.cat([predlistauc_test, nn.functional.softmax(outputs, dim=1).cpu()])\n",
    "\n",
    "# Conversion of tensors to numpy for further processing\n",
    "predlist_test = predlist_test.numpy()\n",
    "lbllist_test = lbllist_test.numpy()\n",
    "predlistauc_test = predlistauc_test.numpy()\n",
    "\n",
    "# Confusion matrix, classification report\n",
    "\n",
    "# Confusion Matrix\n",
    "conf_matrix = confusion_matrix(lbllist_test, predlist_test)\n",
    "# Convert all_labels and all_predictions to the correct format if necessary\n",
    "class_names = test_dataset.classes\n",
    "plot_confusion_matrix(conf_matrix, class_names)\n",
    "\n",
    "print(classification_report(lbllist_test, predlist_test, target_names=class_names))"
   ]
  },
  {
   "cell_type": "markdown",
   "metadata": {},
   "source": [
    "#### IMPORTANT: the result values are in decimal values. To obtain the exactly same value presented in the paper (84.64) you need to sum all the values on the diagonal and divid the result to 1511.\n",
    "\n",
    "### Accuravy_value_in_paper = (124+849+82+29+162+31+28) / 1511 --> 86.37"
   ]
  }
 ],
 "metadata": {
  "accelerator": "GPU",
  "colab": {
   "collapsed_sections": [],
   "name": "Skin_classifier.ipynb",
   "provenance": []
  },
  "kaggle": {
   "accelerator": "gpu",
   "dataSources": [
    {
     "datasetId": 1370616,
     "sourceId": 2275763,
     "sourceType": "datasetVersion"
    },
    {
     "datasetId": 4505962,
     "sourceId": 7715456,
     "sourceType": "datasetVersion"
    },
    {
     "datasetId": 4505965,
     "sourceId": 7715461,
     "sourceType": "datasetVersion"
    },
    {
     "datasetId": 4505966,
     "sourceId": 7715463,
     "sourceType": "datasetVersion"
    },
    {
     "datasetId": 4505982,
     "sourceId": 7715482,
     "sourceType": "datasetVersion"
    }
   ],
   "dockerImageVersionId": 30665,
   "isGpuEnabled": true,
   "isInternetEnabled": true,
   "language": "python",
   "sourceType": "notebook"
  },
  "kernelspec": {
   "display_name": "PyTorch 2.1.0 (Python 3.11)",
   "language": "python",
   "name": "python3"
  },
  "language_info": {
   "codemirror_mode": {
    "name": "ipython",
    "version": 3
   },
   "file_extension": ".py",
   "mimetype": "text/x-python",
   "name": "python",
   "nbconvert_exporter": "python",
   "pygments_lexer": "ipython3",
   "version": "3.11.6"
  },
  "widgets": {
   "application/vnd.jupyter.widget-state+json": {
    "1acf94a172b34beb97719742f7a340ab": {
     "model_module": "@jupyter-widgets/base",
     "model_name": "LayoutModel",
     "state": {
      "_model_module": "@jupyter-widgets/base",
      "_model_module_version": "1.2.0",
      "_model_name": "LayoutModel",
      "_view_count": null,
      "_view_module": "@jupyter-widgets/base",
      "_view_module_version": "1.2.0",
      "_view_name": "LayoutView",
      "align_content": null,
      "align_items": null,
      "align_self": null,
      "border": null,
      "bottom": null,
      "display": null,
      "flex": null,
      "flex_flow": null,
      "grid_area": null,
      "grid_auto_columns": null,
      "grid_auto_flow": null,
      "grid_auto_rows": null,
      "grid_column": null,
      "grid_gap": null,
      "grid_row": null,
      "grid_template_areas": null,
      "grid_template_columns": null,
      "grid_template_rows": null,
      "height": null,
      "justify_content": null,
      "justify_items": null,
      "left": null,
      "margin": null,
      "max_height": null,
      "max_width": null,
      "min_height": null,
      "min_width": null,
      "object_fit": null,
      "object_position": null,
      "order": null,
      "overflow": null,
      "overflow_x": null,
      "overflow_y": null,
      "padding": null,
      "right": null,
      "top": null,
      "visibility": null,
      "width": null
     }
    },
    "2c91fd89d7094f8ea80eab7135278b66": {
     "model_module": "@jupyter-widgets/controls",
     "model_name": "HTMLModel",
     "state": {
      "_dom_classes": [],
      "_model_module": "@jupyter-widgets/controls",
      "_model_module_version": "1.5.0",
      "_model_name": "HTMLModel",
      "_view_count": null,
      "_view_module": "@jupyter-widgets/controls",
      "_view_module_version": "1.5.0",
      "_view_name": "HTMLView",
      "description": "",
      "description_tooltip": null,
      "layout": "IPY_MODEL_cf56e07ca31e4aaead598e4c76ed59c0",
      "placeholder": "​",
      "style": "IPY_MODEL_518ad6c229e24a889f18f5dc571b49a1",
      "value": " 97.8M/97.8M [00:08&lt;00:00, 12.8MB/s]"
     }
    },
    "518ad6c229e24a889f18f5dc571b49a1": {
     "model_module": "@jupyter-widgets/controls",
     "model_name": "DescriptionStyleModel",
     "state": {
      "_model_module": "@jupyter-widgets/controls",
      "_model_module_version": "1.5.0",
      "_model_name": "DescriptionStyleModel",
      "_view_count": null,
      "_view_module": "@jupyter-widgets/base",
      "_view_module_version": "1.2.0",
      "_view_name": "StyleView",
      "description_width": ""
     }
    },
    "581a27dd91bc472aa20bdbb2fbe794fe": {
     "model_module": "@jupyter-widgets/controls",
     "model_name": "HBoxModel",
     "state": {
      "_dom_classes": [],
      "_model_module": "@jupyter-widgets/controls",
      "_model_module_version": "1.5.0",
      "_model_name": "HBoxModel",
      "_view_count": null,
      "_view_module": "@jupyter-widgets/controls",
      "_view_module_version": "1.5.0",
      "_view_name": "HBoxView",
      "box_style": "",
      "children": [
       "IPY_MODEL_bfd31272c80a423689c64c1c2e188e5f",
       "IPY_MODEL_2c91fd89d7094f8ea80eab7135278b66"
      ],
      "layout": "IPY_MODEL_7cb55a1237a14f27ab76d29213929c6b"
     }
    },
    "67a4bc927924426986a014b522a2d3ac": {
     "model_module": "@jupyter-widgets/controls",
     "model_name": "ProgressStyleModel",
     "state": {
      "_model_module": "@jupyter-widgets/controls",
      "_model_module_version": "1.5.0",
      "_model_name": "ProgressStyleModel",
      "_view_count": null,
      "_view_module": "@jupyter-widgets/base",
      "_view_module_version": "1.2.0",
      "_view_name": "StyleView",
      "bar_color": null,
      "description_width": "initial"
     }
    },
    "7cb55a1237a14f27ab76d29213929c6b": {
     "model_module": "@jupyter-widgets/base",
     "model_name": "LayoutModel",
     "state": {
      "_model_module": "@jupyter-widgets/base",
      "_model_module_version": "1.2.0",
      "_model_name": "LayoutModel",
      "_view_count": null,
      "_view_module": "@jupyter-widgets/base",
      "_view_module_version": "1.2.0",
      "_view_name": "LayoutView",
      "align_content": null,
      "align_items": null,
      "align_self": null,
      "border": null,
      "bottom": null,
      "display": null,
      "flex": null,
      "flex_flow": null,
      "grid_area": null,
      "grid_auto_columns": null,
      "grid_auto_flow": null,
      "grid_auto_rows": null,
      "grid_column": null,
      "grid_gap": null,
      "grid_row": null,
      "grid_template_areas": null,
      "grid_template_columns": null,
      "grid_template_rows": null,
      "height": null,
      "justify_content": null,
      "justify_items": null,
      "left": null,
      "margin": null,
      "max_height": null,
      "max_width": null,
      "min_height": null,
      "min_width": null,
      "object_fit": null,
      "object_position": null,
      "order": null,
      "overflow": null,
      "overflow_x": null,
      "overflow_y": null,
      "padding": null,
      "right": null,
      "top": null,
      "visibility": null,
      "width": null
     }
    },
    "bfd31272c80a423689c64c1c2e188e5f": {
     "model_module": "@jupyter-widgets/controls",
     "model_name": "FloatProgressModel",
     "state": {
      "_dom_classes": [],
      "_model_module": "@jupyter-widgets/controls",
      "_model_module_version": "1.5.0",
      "_model_name": "FloatProgressModel",
      "_view_count": null,
      "_view_module": "@jupyter-widgets/controls",
      "_view_module_version": "1.5.0",
      "_view_name": "ProgressView",
      "bar_style": "success",
      "description": "100%",
      "description_tooltip": null,
      "layout": "IPY_MODEL_1acf94a172b34beb97719742f7a340ab",
      "max": 102530333,
      "min": 0,
      "orientation": "horizontal",
      "style": "IPY_MODEL_67a4bc927924426986a014b522a2d3ac",
      "value": 102530333
     }
    },
    "cf56e07ca31e4aaead598e4c76ed59c0": {
     "model_module": "@jupyter-widgets/base",
     "model_name": "LayoutModel",
     "state": {
      "_model_module": "@jupyter-widgets/base",
      "_model_module_version": "1.2.0",
      "_model_name": "LayoutModel",
      "_view_count": null,
      "_view_module": "@jupyter-widgets/base",
      "_view_module_version": "1.2.0",
      "_view_name": "LayoutView",
      "align_content": null,
      "align_items": null,
      "align_self": null,
      "border": null,
      "bottom": null,
      "display": null,
      "flex": null,
      "flex_flow": null,
      "grid_area": null,
      "grid_auto_columns": null,
      "grid_auto_flow": null,
      "grid_auto_rows": null,
      "grid_column": null,
      "grid_gap": null,
      "grid_row": null,
      "grid_template_areas": null,
      "grid_template_columns": null,
      "grid_template_rows": null,
      "height": null,
      "justify_content": null,
      "justify_items": null,
      "left": null,
      "margin": null,
      "max_height": null,
      "max_width": null,
      "min_height": null,
      "min_width": null,
      "object_fit": null,
      "object_position": null,
      "order": null,
      "overflow": null,
      "overflow_x": null,
      "overflow_y": null,
      "padding": null,
      "right": null,
      "top": null,
      "visibility": null,
      "width": null
     }
    }
   }
  }
 },
 "nbformat": 4,
 "nbformat_minor": 4
}
