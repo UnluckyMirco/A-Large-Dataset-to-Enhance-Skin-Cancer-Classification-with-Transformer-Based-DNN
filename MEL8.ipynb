{
 "cells": [
  {
   "cell_type": "markdown",
   "metadata": {
    "id": "SUs6go0MNDT5",
    "outputId": "4c70249f-592f-4c5e-cfa6-c2148249b8d1"
   },
   "source": [
    "## Training and Test on Swin Transformer\n",
    "Training Swin as pretrained network using the combination of HAM and BCN.\n",
    "\n",
    "#### INPUT\n",
    "- **Training&Validation**: HAM+BCN. Without duplicates \n",
    "- **Test**: ISIC 2018 Challenge Test Set"
   ]
  },
  {
   "cell_type": "code",
   "execution_count": 1,
   "metadata": {
    "tags": []
   },
   "outputs": [
    {
     "name": "stdout",
     "output_type": "stream",
     "text": [
      "Requirement already satisfied: torch in /opt/conda/lib/python3.11/site-packages (2.1.0)\n",
      "Requirement already satisfied: torchvision in /opt/conda/lib/python3.11/site-packages (0.16.0)\n",
      "Requirement already satisfied: tensorboard in /opt/conda/lib/python3.11/site-packages (2.16.2)\n",
      "Requirement already satisfied: filelock in /opt/conda/lib/python3.11/site-packages (from torch) (3.12.4)\n",
      "Requirement already satisfied: typing-extensions in /opt/conda/lib/python3.11/site-packages (from torch) (4.8.0)\n",
      "Requirement already satisfied: sympy in /opt/conda/lib/python3.11/site-packages (from torch) (1.12)\n",
      "Requirement already satisfied: networkx in /opt/conda/lib/python3.11/site-packages (from torch) (3.1)\n",
      "Requirement already satisfied: jinja2 in /opt/conda/lib/python3.11/site-packages (from torch) (3.1.2)\n",
      "Requirement already satisfied: fsspec in /opt/conda/lib/python3.11/site-packages (from torch) (2023.6.0)\n",
      "Requirement already satisfied: numpy in /opt/conda/lib/python3.11/site-packages (from torchvision) (1.24.4)\n",
      "Requirement already satisfied: requests in /opt/conda/lib/python3.11/site-packages (from torchvision) (2.31.0)\n",
      "Requirement already satisfied: pillow!=8.3.*,>=5.3.0 in /opt/conda/lib/python3.11/site-packages (from torchvision) (10.0.1)\n",
      "Requirement already satisfied: absl-py>=0.4 in /opt/conda/lib/python3.11/site-packages (from tensorboard) (2.1.0)\n",
      "Requirement already satisfied: grpcio>=1.48.2 in /opt/conda/lib/python3.11/site-packages (from tensorboard) (1.62.1)\n",
      "Requirement already satisfied: markdown>=2.6.8 in /opt/conda/lib/python3.11/site-packages (from tensorboard) (3.5)\n",
      "Requirement already satisfied: protobuf!=4.24.0,>=3.19.6 in /opt/conda/lib/python3.11/site-packages (from tensorboard) (4.24.3)\n",
      "Requirement already satisfied: setuptools>=41.0.0 in /opt/conda/lib/python3.11/site-packages (from tensorboard) (68.2.2)\n",
      "Requirement already satisfied: six>1.9 in /opt/conda/lib/python3.11/site-packages (from tensorboard) (1.16.0)\n",
      "Requirement already satisfied: tensorboard-data-server<0.8.0,>=0.7.0 in /opt/conda/lib/python3.11/site-packages (from tensorboard) (0.7.2)\n",
      "Requirement already satisfied: werkzeug>=1.0.1 in /opt/conda/lib/python3.11/site-packages (from tensorboard) (3.0.0)\n",
      "Requirement already satisfied: MarkupSafe>=2.1.1 in /opt/conda/lib/python3.11/site-packages (from werkzeug>=1.0.1->tensorboard) (2.1.3)\n",
      "Requirement already satisfied: charset-normalizer<4,>=2 in /opt/conda/lib/python3.11/site-packages (from requests->torchvision) (3.3.0)\n",
      "Requirement already satisfied: idna<4,>=2.5 in /opt/conda/lib/python3.11/site-packages (from requests->torchvision) (3.4)\n",
      "Requirement already satisfied: urllib3<3,>=1.21.1 in /opt/conda/lib/python3.11/site-packages (from requests->torchvision) (1.26.17)\n",
      "Requirement already satisfied: certifi>=2017.4.17 in /opt/conda/lib/python3.11/site-packages (from requests->torchvision) (2023.7.22)\n",
      "Requirement already satisfied: mpmath>=0.19 in /opt/conda/lib/python3.11/site-packages (from sympy->torch) (1.3.0)\n",
      "Requirement already satisfied: barbar in /opt/conda/lib/python3.11/site-packages (0.2.1)\n",
      "Requirement already satisfied: torchsummary in /opt/conda/lib/python3.11/site-packages (1.5.1)\n",
      "Requirement already satisfied: pytorch-ignite in /opt/conda/lib/python3.11/site-packages (0.4.13)\n",
      "Requirement already satisfied: torch<3,>=1.3 in /opt/conda/lib/python3.11/site-packages (from pytorch-ignite) (2.1.0)\n",
      "Requirement already satisfied: packaging in /opt/conda/lib/python3.11/site-packages (from pytorch-ignite) (23.2)\n",
      "Requirement already satisfied: filelock in /opt/conda/lib/python3.11/site-packages (from torch<3,>=1.3->pytorch-ignite) (3.12.4)\n",
      "Requirement already satisfied: typing-extensions in /opt/conda/lib/python3.11/site-packages (from torch<3,>=1.3->pytorch-ignite) (4.8.0)\n",
      "Requirement already satisfied: sympy in /opt/conda/lib/python3.11/site-packages (from torch<3,>=1.3->pytorch-ignite) (1.12)\n",
      "Requirement already satisfied: networkx in /opt/conda/lib/python3.11/site-packages (from torch<3,>=1.3->pytorch-ignite) (3.1)\n",
      "Requirement already satisfied: jinja2 in /opt/conda/lib/python3.11/site-packages (from torch<3,>=1.3->pytorch-ignite) (3.1.2)\n",
      "Requirement already satisfied: fsspec in /opt/conda/lib/python3.11/site-packages (from torch<3,>=1.3->pytorch-ignite) (2023.6.0)\n",
      "Requirement already satisfied: MarkupSafe>=2.0 in /opt/conda/lib/python3.11/site-packages (from jinja2->torch<3,>=1.3->pytorch-ignite) (2.1.3)\n",
      "Requirement already satisfied: mpmath>=0.19 in /opt/conda/lib/python3.11/site-packages (from sympy->torch<3,>=1.3->pytorch-ignite) (1.3.0)\n",
      "Requirement already satisfied: timm in /opt/conda/lib/python3.11/site-packages (0.9.16)\n",
      "Requirement already satisfied: torch in /opt/conda/lib/python3.11/site-packages (from timm) (2.1.0)\n",
      "Requirement already satisfied: torchvision in /opt/conda/lib/python3.11/site-packages (from timm) (0.16.0)\n",
      "Requirement already satisfied: pyyaml in /opt/conda/lib/python3.11/site-packages (from timm) (6.0.1)\n",
      "Requirement already satisfied: huggingface_hub in /opt/conda/lib/python3.11/site-packages (from timm) (0.21.4)\n",
      "Requirement already satisfied: safetensors in /opt/conda/lib/python3.11/site-packages (from timm) (0.4.2)\n",
      "Requirement already satisfied: filelock in /opt/conda/lib/python3.11/site-packages (from huggingface_hub->timm) (3.12.4)\n",
      "Requirement already satisfied: fsspec>=2023.5.0 in /opt/conda/lib/python3.11/site-packages (from huggingface_hub->timm) (2023.6.0)\n",
      "Requirement already satisfied: requests in /opt/conda/lib/python3.11/site-packages (from huggingface_hub->timm) (2.31.0)\n",
      "Requirement already satisfied: tqdm>=4.42.1 in /opt/conda/lib/python3.11/site-packages (from huggingface_hub->timm) (4.66.1)\n",
      "Requirement already satisfied: typing-extensions>=3.7.4.3 in /opt/conda/lib/python3.11/site-packages (from huggingface_hub->timm) (4.8.0)\n",
      "Requirement already satisfied: packaging>=20.9 in /opt/conda/lib/python3.11/site-packages (from huggingface_hub->timm) (23.2)\n",
      "Requirement already satisfied: sympy in /opt/conda/lib/python3.11/site-packages (from torch->timm) (1.12)\n",
      "Requirement already satisfied: networkx in /opt/conda/lib/python3.11/site-packages (from torch->timm) (3.1)\n",
      "Requirement already satisfied: jinja2 in /opt/conda/lib/python3.11/site-packages (from torch->timm) (3.1.2)\n",
      "Requirement already satisfied: numpy in /opt/conda/lib/python3.11/site-packages (from torchvision->timm) (1.24.4)\n",
      "Requirement already satisfied: pillow!=8.3.*,>=5.3.0 in /opt/conda/lib/python3.11/site-packages (from torchvision->timm) (10.0.1)\n",
      "Requirement already satisfied: MarkupSafe>=2.0 in /opt/conda/lib/python3.11/site-packages (from jinja2->torch->timm) (2.1.3)\n",
      "Requirement already satisfied: charset-normalizer<4,>=2 in /opt/conda/lib/python3.11/site-packages (from requests->huggingface_hub->timm) (3.3.0)\n",
      "Requirement already satisfied: idna<4,>=2.5 in /opt/conda/lib/python3.11/site-packages (from requests->huggingface_hub->timm) (3.4)\n",
      "Requirement already satisfied: urllib3<3,>=1.21.1 in /opt/conda/lib/python3.11/site-packages (from requests->huggingface_hub->timm) (1.26.17)\n",
      "Requirement already satisfied: certifi>=2017.4.17 in /opt/conda/lib/python3.11/site-packages (from requests->huggingface_hub->timm) (2023.7.22)\n",
      "Requirement already satisfied: mpmath>=0.19 in /opt/conda/lib/python3.11/site-packages (from sympy->torch->timm) (1.3.0)\n"
     ]
    }
   ],
   "source": [
    "# Install libraries\n",
    "\n",
    "!pip install torch torchvision tensorboard\n",
    "!pip install barbar\n",
    "!pip install torchsummary\n",
    "!pip install pytorch-ignite\n",
    "!pip install timm"
   ]
  },
  {
   "cell_type": "code",
   "execution_count": 2,
   "metadata": {
    "id": "9sq7HKYBo31x",
    "tags": []
   },
   "outputs": [],
   "source": [
    "import torch\n",
    "import os\n",
    "import random\n",
    "import torchvision\n",
    "import pandas as pd\n",
    "import torch.nn as nn\n",
    "import numpy as np\n",
    "from torchvision import transforms, datasets\n",
    "from shutil import copyfile, move\n",
    "from torch.utils.tensorboard import SummaryWriter\n",
    "import torch.optim as optim\n",
    "import matplotlib.pyplot as plt\n",
    "import seaborn as sns\n",
    "from barbar import Bar\n",
    "from torchsummary import summary\n",
    "from ignite.metrics import Accuracy\n",
    "from sklearn.metrics import confusion_matrix, ConfusionMatrixDisplay, classification_report, roc_auc_score\n",
    "import timm\n",
    "from torch.utils.data import ConcatDataset\n",
    "\n",
    "general_path = '/home/jovyan/shared/abulgheroni/'"
   ]
  },
  {
   "cell_type": "code",
   "execution_count": 3,
   "metadata": {
    "id": "su4OIQ2CpFXB",
    "tags": []
   },
   "outputs": [],
   "source": [
    "def split_data(source, training, validation, split_size):    \n",
    "    files = []\n",
    "    for filename in os.listdir(source):\n",
    "        file = source + filename\n",
    "        if os.path.getsize(file) > 0:\n",
    "            files.append(filename)\n",
    "        else:\n",
    "            print(filename + \" is zero length, so ignoring.\")\n",
    "\n",
    "    training_length = int(len(files) * split_size)\n",
    "    validation_length = int(len(files) - training_length)\n",
    "    shuffled_set = random.sample(files, len(files))\n",
    "    training_set = shuffled_set[0:training_length]\n",
    "    validation_set = shuffled_set[:validation_length]\n",
    "\n",
    "    for filename in training_set:\n",
    "        this_file = source + filename\n",
    "        destination = training + filename\n",
    "        copyfile(this_file, destination)\n",
    "\n",
    "    for filename in validation_set:\n",
    "        this_file = source + filename\n",
    "        destination = validation + filename\n",
    "        copyfile(this_file, destination)"
   ]
  },
  {
   "cell_type": "markdown",
   "metadata": {
    "id": "YIg7C2rTSzzJ"
   },
   "source": [
    "## Data directories"
   ]
  },
  {
   "cell_type": "code",
   "execution_count": 5,
   "metadata": {
    "id": "ywLviWRAzvMJ"
   },
   "outputs": [],
   "source": [
    "source_MEL = '/home/jovyan/shared/abulgheroni/datasets/HAM10k_BCN20k_merged/HAM_BCN_merged/images/0.MEL/'\n",
    "source_NV = '/home/jovyan/shared/abulgheroni/datasets/HAM10k_BCN20k_merged/HAM_BCN_merged/images/1.NV/'\n",
    "source_BCC = '/home/jovyan/shared/abulgheroni/datasets/HAM10k_BCN20k_merged/HAM_BCN_merged/images/2.BCC/'\n",
    "source_AKIEC = '/home/jovyan/shared/abulgheroni/datasets/HAM10k_BCN20k_merged/HAM_BCN_merged/images/3.AKIEC/'\n",
    "source_BKL = '/home/jovyan/shared/abulgheroni/datasets/HAM10k_BCN20k_merged/HAM_BCN_merged/images/4.BKL/'\n",
    "source_DF = '/home/jovyan/shared/abulgheroni/datasets/HAM10k_BCN20k_merged/HAM_BCN_merged/images/5.DF/'\n",
    "source_VASC = '/home/jovyan/shared/abulgheroni/datasets/HAM10k_BCN20k_merged/HAM_BCN_merged/images/6.VASC/'\n",
    "\n",
    "training_MEL = '/home/jovyan/shared/abulgheroni/datasets/HAM10k_BCN20k_merged/HAM_BCN_merged/images/training/0.MEL/'\n",
    "training_NV = '/home/jovyan/shared/abulgheroni/datasets/HAM10k_BCN20k_merged/HAM_BCN_merged/images/training/1.NV/'\n",
    "training_BCC = '/home/jovyan/shared/abulgheroni/datasets/HAM10k_BCN20k_merged/HAM_BCN_merged/images/training/2.BCC/'\n",
    "training_AKIEC = '/home/jovyan/shared/abulgheroni/datasets/HAM10k_BCN20k_merged/HAM_BCN_merged/images/training/3.AKIEC/'\n",
    "training_BKL = '/home/jovyan/shared/abulgheroni/datasets/HAM10k_BCN20k_merged/HAM_BCN_merged/images/training/4.BKL/'\n",
    "training_DF = '/home/jovyan/shared/abulgheroni/datasets/HAM10k_BCN20k_merged/HAM_BCN_merged/images/training/5.DF/'\n",
    "training_VASC = '/home/jovyan/shared/abulgheroni/datasets/HAM10k_BCN20k_merged/HAM_BCN_merged/images/training/6.VASC/'\n",
    "\n",
    "validation_MEL = '/home/jovyan/shared/abulgheroni/datasets/HAM10k_BCN20k_merged/HAM_BCN_merged/images/validation/0.MEL/'\n",
    "validation_NV = '/home/jovyan/shared/abulgheroni/datasets/HAM10k_BCN20k_merged/HAM_BCN_merged/images/validation/1.NV'\n",
    "validation_BCC = '/home/jovyan/shared/abulgheroni/datasets/HAM10k_BCN20k_merged/HAM_BCN_merged/images/validation/2.BCC/'\n",
    "validation_AKIEC = '/home/jovyan/shared/abulgheroni/datasets/HAM10k_BCN20k_merged/HAM_BCN_merged/images/validation/3.AKIEC/'\n",
    "validation_BKL = '/home/jovyan/shared/abulgheroni/datasets/HAM10k_BCN20k_merged/HAM_BCN_merged/images/validation/4.BKL/'\n",
    "validation_DF = '/home/jovyan/shared/abulgheroni/datasets/HAM10k_BCN20k_merged/HAM_BCN_merged/images/validation/5.DF/'\n",
    "validation_VASC = '/home/jovyan/shared/abulgheroni/datasets/HAM10k_BCN20k_merged/HAM_BCN_merged/images/validation/6.VASC/'"
   ]
  },
  {
   "cell_type": "markdown",
   "metadata": {
    "id": "hyrTAZw0SzzL"
   },
   "source": [
    "##\n",
    "### Dataset has some photos of the same skin neoplasms but slightly rescaled.  \n",
    "### Neoplasms are identified by lesion_id.   \n",
    "###  We will read into the csv file with info about dataset and drop all duplicate photos by lesion_id to make all our photos iid (independant and identically distributed), so that we wont overfit and wont randomly put duplicate photos into validation set. "
   ]
  },
  {
   "cell_type": "code",
   "execution_count": 6,
   "metadata": {
    "id": "peei-Pn3xf71"
   },
   "outputs": [],
   "source": [
    "data = pd.read_csv(r'/home/jovyan/shared/abulgheroni/datasets/HAM10k_BCN20k_merged/HAM_BCN_enlarged.csv')"
   ]
  },
  {
   "cell_type": "code",
   "execution_count": 7,
   "metadata": {
    "colab": {
     "base_uri": "https://localhost:8080/",
     "height": 204
    },
    "id": "8qwLI0iXaA9I",
    "outputId": "5bdf5569-1164-47ba-d2fd-b0600eb2f8c9"
   },
   "outputs": [
    {
     "data": {
      "text/html": [
       "<div>\n",
       "<style scoped>\n",
       "    .dataframe tbody tr th:only-of-type {\n",
       "        vertical-align: middle;\n",
       "    }\n",
       "\n",
       "    .dataframe tbody tr th {\n",
       "        vertical-align: top;\n",
       "    }\n",
       "\n",
       "    .dataframe thead th {\n",
       "        text-align: right;\n",
       "    }\n",
       "</style>\n",
       "<table border=\"1\" class=\"dataframe\">\n",
       "  <thead>\n",
       "    <tr style=\"text-align: right;\">\n",
       "      <th></th>\n",
       "      <th>lesion_id</th>\n",
       "      <th>image_id</th>\n",
       "      <th>enlarged_diagnosis</th>\n",
       "      <th>source</th>\n",
       "      <th>age</th>\n",
       "      <th>null_age</th>\n",
       "      <th>sex</th>\n",
       "      <th>null_sex</th>\n",
       "      <th>localization</th>\n",
       "      <th>null_localization</th>\n",
       "    </tr>\n",
       "  </thead>\n",
       "  <tbody>\n",
       "    <tr>\n",
       "      <th>0</th>\n",
       "      <td>HAM_0000000</td>\n",
       "      <td>ISIC_0025346</td>\n",
       "      <td>NV</td>\n",
       "      <td>HAM</td>\n",
       "      <td>60.0</td>\n",
       "      <td>1</td>\n",
       "      <td>male</td>\n",
       "      <td>1</td>\n",
       "      <td>back</td>\n",
       "      <td>1.0</td>\n",
       "    </tr>\n",
       "    <tr>\n",
       "      <th>1</th>\n",
       "      <td>HAM_0000000</td>\n",
       "      <td>ISIC_0028498</td>\n",
       "      <td>NV</td>\n",
       "      <td>HAM</td>\n",
       "      <td>60.0</td>\n",
       "      <td>1</td>\n",
       "      <td>male</td>\n",
       "      <td>1</td>\n",
       "      <td>back</td>\n",
       "      <td>1.0</td>\n",
       "    </tr>\n",
       "    <tr>\n",
       "      <th>2</th>\n",
       "      <td>HAM_0000001</td>\n",
       "      <td>ISIC_0027859</td>\n",
       "      <td>BKL</td>\n",
       "      <td>HAM</td>\n",
       "      <td>70.0</td>\n",
       "      <td>1</td>\n",
       "      <td>female</td>\n",
       "      <td>1</td>\n",
       "      <td>face</td>\n",
       "      <td>1.0</td>\n",
       "    </tr>\n",
       "    <tr>\n",
       "      <th>3</th>\n",
       "      <td>HAM_0000002</td>\n",
       "      <td>ISIC_0032622</td>\n",
       "      <td>MEL</td>\n",
       "      <td>HAM</td>\n",
       "      <td>65.0</td>\n",
       "      <td>1</td>\n",
       "      <td>female</td>\n",
       "      <td>1</td>\n",
       "      <td>lower</td>\n",
       "      <td>NaN</td>\n",
       "    </tr>\n",
       "    <tr>\n",
       "      <th>4</th>\n",
       "      <td>HAM_0000002</td>\n",
       "      <td>ISIC_0033848</td>\n",
       "      <td>MEL</td>\n",
       "      <td>HAM</td>\n",
       "      <td>65.0</td>\n",
       "      <td>1</td>\n",
       "      <td>female</td>\n",
       "      <td>1</td>\n",
       "      <td>lower</td>\n",
       "      <td>NaN</td>\n",
       "    </tr>\n",
       "  </tbody>\n",
       "</table>\n",
       "</div>"
      ],
      "text/plain": [
       "     lesion_id      image_id enlarged_diagnosis source   age  null_age  \\\n",
       "0  HAM_0000000  ISIC_0025346                 NV    HAM  60.0         1   \n",
       "1  HAM_0000000  ISIC_0028498                 NV    HAM  60.0         1   \n",
       "2  HAM_0000001  ISIC_0027859                BKL    HAM  70.0         1   \n",
       "3  HAM_0000002  ISIC_0032622                MEL    HAM  65.0         1   \n",
       "4  HAM_0000002  ISIC_0033848                MEL    HAM  65.0         1   \n",
       "\n",
       "      sex  null_sex localization  null_localization  \n",
       "0    male         1         back                1.0  \n",
       "1    male         1         back                1.0  \n",
       "2  female         1         face                1.0  \n",
       "3  female         1        lower                NaN  \n",
       "4  female         1        lower                NaN  "
      ]
     },
     "execution_count": 7,
     "metadata": {},
     "output_type": "execute_result"
    }
   ],
   "source": [
    "data.head()"
   ]
  },
  {
   "cell_type": "code",
   "execution_count": 8,
   "metadata": {
    "colab": {
     "base_uri": "https://localhost:8080/"
    },
    "id": "yoiPPr9hyQgE",
    "outputId": "aedd5e7e-b53c-42ef-bb66-b6dc3703d134"
   },
   "outputs": [
    {
     "data": {
      "text/plain": [
       "Index(['lesion_id', 'image_id', 'enlarged_diagnosis', 'source', 'age',\n",
       "       'null_age', 'sex', 'null_sex', 'localization', 'null_localization'],\n",
       "      dtype='object')"
      ]
     },
     "execution_count": 8,
     "metadata": {},
     "output_type": "execute_result"
    }
   ],
   "source": [
    "data.columns"
   ]
  },
  {
   "cell_type": "code",
   "execution_count": 9,
   "metadata": {
    "colab": {
     "base_uri": "https://localhost:8080/"
    },
    "id": "2vW83TCvYWW4",
    "outputId": "dfb91f57-7f08-43c3-874d-c8b1864e1289"
   },
   "outputs": [
    {
     "data": {
      "text/plain": [
       "22428"
      ]
     },
     "execution_count": 9,
     "metadata": {},
     "output_type": "execute_result"
    }
   ],
   "source": [
    "len(data)"
   ]
  },
  {
   "cell_type": "code",
   "execution_count": 10,
   "metadata": {
    "id": "9P1e3oa3YJ9F"
   },
   "outputs": [],
   "source": [
    "data = data.drop_duplicates(subset='lesion_id')"
   ]
  },
  {
   "cell_type": "code",
   "execution_count": 11,
   "metadata": {
    "colab": {
     "base_uri": "https://localhost:8080/"
    },
    "id": "QspFBwwQYksy",
    "outputId": "fb5428b5-2273-4445-989d-c5d9ab1bb4a2"
   },
   "outputs": [
    {
     "data": {
      "text/plain": [
       "11046"
      ]
     },
     "execution_count": 11,
     "metadata": {},
     "output_type": "execute_result"
    }
   ],
   "source": [
    "len(data)"
   ]
  },
  {
   "cell_type": "markdown",
   "metadata": {
    "id": "YdvlhZDpSzzP"
   },
   "source": [
    "##\n",
    "###  Now using list comprehensions we will save all image names and their diagnosis in variables, and using for loop we will sort and copy all files by their diagnosis into the corresponding folders.\n",
    "### Then we will split each individual class of photos into train and val datasets 80/20%."
   ]
  },
  {
   "cell_type": "code",
   "execution_count": 12,
   "metadata": {
    "id": "9kwFEZTByQZ1"
   },
   "outputs": [],
   "source": [
    "image_names = [x for x in data['image_id']]\n",
    "diagnosis = [x for x in data['enlarged_diagnosis']]"
   ]
  },
  {
   "cell_type": "code",
   "execution_count": 13,
   "metadata": {
    "colab": {
     "base_uri": "https://localhost:8080/"
    },
    "id": "7CrSaCzlyQPt",
    "outputId": "dfafa530-0c4b-44db-a3d3-6434d1935c73"
   },
   "outputs": [
    {
     "name": "stdout",
     "output_type": "stream",
     "text": [
      "11046\n",
      "11046\n"
     ]
    }
   ],
   "source": [
    "print(len(image_names))\n",
    "print(len(diagnosis))"
   ]
  },
  {
   "cell_type": "code",
   "execution_count": 14,
   "metadata": {
    "colab": {
     "base_uri": "https://localhost:8080/"
    },
    "id": "JeV0V03FyQEL",
    "outputId": "ceeee7ca-4014-47e2-f663-32ae4c79eaef"
   },
   "outputs": [
    {
     "name": "stdout",
     "output_type": "stream",
     "text": [
      "ISIC_0025346\n",
      "NV\n"
     ]
    }
   ],
   "source": [
    "print(image_names[0])\n",
    "print(diagnosis[0])"
   ]
  },
  {
   "cell_type": "code",
   "execution_count": 15,
   "metadata": {
    "colab": {
     "base_uri": "https://localhost:8080/"
    },
    "id": "r9W6M8INzUKO",
    "outputId": "0c591712-2f20-4a05-8b4a-26870f6600c2"
   },
   "outputs": [
    {
     "name": "stdout",
     "output_type": "stream",
     "text": [
      "<class 'str'>\n",
      "<class 'str'>\n"
     ]
    }
   ],
   "source": [
    "print(type(image_names[0]))\n",
    "print(type(diagnosis[0]))\n"
   ]
  },
  {
   "cell_type": "code",
   "execution_count": 16,
   "metadata": {
    "colab": {
     "base_uri": "https://localhost:8080/"
    },
    "id": "CaSKq1zZgdEL",
    "outputId": "b6ac29ce-77d5-4503-e8f5-65b315728b45"
   },
   "outputs": [
    {
     "data": {
      "text/plain": [
       "array(['NV', 'BKL', 'MEL', 'AKIEC', 'BCC', 'DF', 'VASC'], dtype=object)"
      ]
     },
     "execution_count": 16,
     "metadata": {},
     "output_type": "execute_result"
    }
   ],
   "source": [
    "pd.unique(data['enlarged_diagnosis'])"
   ]
  },
  {
   "cell_type": "code",
   "execution_count": 17,
   "metadata": {
    "colab": {
     "base_uri": "https://localhost:8080/"
    },
    "id": "wkIKhjpKcLph",
    "outputId": "ee93db56-5625-491f-cbd2-3ae9edc225c1"
   },
   "outputs": [
    {
     "name": "stdout",
     "output_type": "stream",
     "text": [
      "1138\n",
      "6684\n",
      "1310\n",
      "586\n",
      "1080\n",
      "113\n",
      "135\n"
     ]
    }
   ],
   "source": [
    "# Print amount of pictures for each class\n",
    "print(len(os.listdir(source_MEL)))\n",
    "print(len(os.listdir(source_NV)))\n",
    "print(len(os.listdir(source_BCC)))\n",
    "print(len(os.listdir(source_AKIEC)))\n",
    "print(len(os.listdir(source_BKL)))\n",
    "print(len(os.listdir(source_DF)))\n",
    "print(len(os.listdir(source_VASC)))"
   ]
  },
  {
   "cell_type": "code",
   "execution_count": 18,
   "metadata": {
    "id": "gVZAs_EiSzzS"
   },
   "outputs": [],
   "source": [
    "traindir_HAM = r'/home/jovyan/nfs/igallo/datasets/HAM10000/skin/training/'\n",
    "valdir_HAM = r'/home/jovyan/nfs/igallo/datasets/HAM10000/skin/validation/'\n",
    "\n",
    "traindir_BCN = r'/home/jovyan/nfs/mgallazzi/datasets/BCN20k_noDuplicati/BCN/images/training/'\n",
    "valdir_BCN = r'/home/jovyan/nfs/mgallazzi/datasets/BCN20k_noDuplicati/BCN/images/validation/'"
   ]
  },
  {
   "cell_type": "markdown",
   "metadata": {
    "id": "RKzx3iKcSzzT"
   },
   "source": [
    "## __3. Data augmentation.__\n",
    "### The Dataset contains 7470 distinct images (eliminated duplicates - HAM10000 images only) of size 400x600. Apart from image analysis (most have the area of interest in the center of the image), Data Augmentation focuses on trying not to alter the scale of the image. This in fact, could alter the symmetries, shape and size of the mole and consequently, give the network incorrect information about the nature of the neoplasm.\n",
    "### Therefore, a resize to 56% of the original size and a randomCrop hit of size 224x224 was chosen.\n",
    "### In addition, to give more information to the network, horizontal flip (p = 0.50) and image translation (p = 0.50) was applied.\n",
    "### Finally, with p = 0.10, a 20% contrast enhancement is applied to the image to also 'play' with the image colors and train the network to correctly classify images of each type.\n"
   ]
  },
  {
   "cell_type": "code",
   "execution_count": 19,
   "metadata": {
    "id": "zxinrQSDpFLS"
   },
   "outputs": [],
   "source": [
    "scale_factor = 0.56\n",
    "\n",
    "HAM_train_transforms = transforms.Compose([\n",
    "    \n",
    "    transforms.Resize((int(600 * scale_factor), int(450 * scale_factor))),  # Rescale the image to 50% while maintaining the scaled image\n",
    "    transforms.RandomCrop((224, 224)),  # randomCrop \n",
    "    transforms.RandomHorizontalFlip(p=0.5),\n",
    "    transforms.RandomApply(transforms=[transforms.RandomRotation(degrees=(-180, 180))], p=0.99),\n",
    "    \n",
    "    # Random rotation with range of +/-10% compared to the original size\n",
    "    transforms.ToTensor(),\n",
    "    transforms.Normalize(mean=[0.485, 0.456, 0.406], std=[0.229, 0.224, 0.225])\n",
    "    ])\n",
    "\n",
    "HAM_val_transforms = transforms.Compose([\n",
    "    \n",
    "    transforms.Resize((int(600 * scale_factor), int(450 * scale_factor))),  \n",
    "    transforms.RandomCrop((224, 224)),  \n",
    "    transforms.ToTensor(),\n",
    "    transforms.Normalize(mean=[0.485, 0.456, 0.406], std=[0.229, 0.224, 0.225])\n",
    "    ])\n",
    "\n",
    "BCN_train_transforms = transforms.Compose([\n",
    "    \n",
    "    transforms.Resize((612, 612)), \n",
    "    transforms.RandomCrop((600, 450)),  \n",
    "    transforms.Resize((int(600 * scale_factor), int(450 * scale_factor))),  \n",
    "    transforms.RandomCrop((224, 224)),  #\n",
    "    transforms.RandomHorizontalFlip(p=0.5),\n",
    "    \n",
    "\n",
    "    transforms.RandomApply(transforms=[transforms.RandomRotation(degrees=(-180, 180))], p=0.99),\n",
    "    \n",
    "    transforms.ToTensor(),\n",
    "    transforms.Normalize(mean=[0.485, 0.456, 0.406], std=[0.229, 0.224, 0.225])\n",
    "    ])\n",
    "\n",
    "BCN_val_transforms = transforms.Compose([\n",
    "    \n",
    "    transforms.Resize((612, 612)),  \n",
    "    transforms.RandomCrop((600, 450)),  \n",
    "    transforms.Resize((int(600 * scale_factor), int(450 * scale_factor))),  \n",
    "    transforms.RandomCrop((224, 224)),  # Applico il randomCrop a 224x22\n",
    "    transforms.ToTensor(),\n",
    "    transforms.Normalize(mean=[0.485, 0.456, 0.406], std=[0.229, 0.224, 0.225])\n",
    "    ])\n",
    "\n",
    "HAM_train_dataset = datasets.ImageFolder(\n",
    "    traindir_HAM, transform = HAM_train_transforms)\n",
    "\n",
    "HAM_val_dataset = datasets.ImageFolder(\n",
    "    valdir_HAM, transform = HAM_val_transforms)\n",
    "\n",
    "BCN_train_dataset = datasets.ImageFolder(\n",
    "    traindir_BCN, transform = BCN_train_transforms)\n",
    "\n",
    "BCN_val_dataset = datasets.ImageFolder(\n",
    "    valdir_BCN, transform = BCN_val_transforms)\n",
    "\n",
    "train_dataset = ConcatDataset([HAM_train_dataset, BCN_train_dataset])\n",
    "val_dataset = ConcatDataset([HAM_val_dataset, BCN_val_dataset])"
   ]
  },
  {
   "cell_type": "markdown",
   "metadata": {
    "id": "FWhSCQygSzzU"
   },
   "source": [
    "## 4.Training\n",
    "#### Model definition\n",
    "#### Define final layer to a 7 way linear classifier\n",
    "#### Choose Cross Entropy loss function\n",
    "#### Adam optimizer (with 0.0001 weight decay)\n",
    "#### The epoch number will be set to 999 since we will be using early stopping.\n",
    "####"
   ]
  },
  {
   "cell_type": "code",
   "execution_count": 21,
   "metadata": {
    "colab": {
     "base_uri": "https://localhost:8080/",
     "height": 83,
     "referenced_widgets": [
      "581a27dd91bc472aa20bdbb2fbe794fe",
      "7cb55a1237a14f27ab76d29213929c6b",
      "bfd31272c80a423689c64c1c2e188e5f",
      "2c91fd89d7094f8ea80eab7135278b66",
      "67a4bc927924426986a014b522a2d3ac",
      "1acf94a172b34beb97719742f7a340ab",
      "518ad6c229e24a889f18f5dc571b49a1",
      "cf56e07ca31e4aaead598e4c76ed59c0"
     ]
    },
    "id": "pCMQWo1dpE_M",
    "outputId": "8856118e-5cc1-4b6a-efc3-9bce1d2439f0"
   },
   "outputs": [],
   "source": [
    "model = timm.create_model('swin_large_patch4_window7_224', pretrained=True, num_classes = 7)"
   ]
  },
  {
   "cell_type": "code",
   "execution_count": 22,
   "metadata": {},
   "outputs": [],
   "source": [
    "num_classes = 7 \n",
    "\n",
    "\n",
    "in_features = model.head.in_features  \n",
    "model.head = nn.Linear(in_features, num_classes)  \n",
    "\n",
    "for param in model.parameters():\n",
    "    param.requires_grad = True \n",
    "\n",
    "\n",
    "for param in model.head.parameters():\n",
    "    param.requires_grad = True"
   ]
  },
  {
   "cell_type": "markdown",
   "metadata": {
    "id": "pSSsCalmSzzV"
   },
   "source": [
    "#### Early stopping reduces validation loss, and 20 was selected as the patience threshold. This large number is justified because, during the project's development, the model was trained in other experiments. After different experiments, we saw the model continues to gradually reduce training loss without overfitting; however, validation loss moves rather stochastically, so in order to avoid stopping the model too soon, a 20-epoch patience period was chosen.\n",
    "####"
   ]
  },
  {
   "cell_type": "code",
   "execution_count": 24,
   "metadata": {
    "colab": {
     "base_uri": "https://localhost:8080/",
     "height": 1000
    },
    "id": "n3of0fhypE8O",
    "outputId": "94a44f1b-92b2-46f7-b60e-2f7fad958193"
   },
   "outputs": [
    {
     "name": "stdout",
     "output_type": "stream",
     "text": [
      "Start training...\n"
     ]
    },
    {
     "name": "stderr",
     "output_type": "stream",
     "text": [
      "/opt/conda/lib/python3.11/site-packages/torch/nn/modules/conv.py:456: UserWarning: Applied workaround for CuDNN issue, install nvrtc.so (Triggered internally at /opt/conda/conda-bld/pytorch_1695392026823/work/aten/src/ATen/native/cudnn/Conv_v8.cpp:80.)\n",
      "  return F.conv2d(input, weight, bias, self.stride,\n"
     ]
    },
    {
     "name": "stdout",
     "output_type": "stream",
     "text": [
      "Start validation...\n",
      "Epoch 1, Train Loss: 1.1691, Train Acc: 0.6583, Val Loss: 0.7658, Val Acc: 0.7417\n",
      "Validation loss decreased, saving model...\n",
      "Start training...\n",
      "Start validation...\n",
      "Epoch 2, Train Loss: 0.5946, Train Acc: 0.7868, Val Loss: 0.4860, Val Acc: 0.8390\n",
      "Validation loss decreased, saving model...\n",
      "Start training...\n",
      "Start validation...\n",
      "Epoch 3, Train Loss: 0.4738, Train Acc: 0.8253, Val Loss: 0.3833, Val Acc: 0.8650\n",
      "Validation loss decreased, saving model...\n",
      "Start training...\n",
      "Start validation...\n",
      "Epoch 4, Train Loss: 0.4192, Train Acc: 0.8461, Val Loss: 0.3170, Val Acc: 0.8935\n",
      "Validation loss decreased, saving model...\n",
      "Start training...\n",
      "Start validation...\n",
      "Epoch 5, Train Loss: 0.3612, Train Acc: 0.8688, Val Loss: 0.3066, Val Acc: 0.8935\n",
      "Validation loss decreased, saving model...\n",
      "Start training...\n",
      "Start validation...\n",
      "Epoch 6, Train Loss: 0.3168, Train Acc: 0.8816, Val Loss: 0.2658, Val Acc: 0.9058\n",
      "Validation loss decreased, saving model...\n",
      "Start training...\n",
      "Start validation...\n",
      "Epoch 7, Train Loss: 0.2840, Train Acc: 0.8969, Val Loss: 0.2962, Val Acc: 0.8884\n",
      "Start training...\n",
      "Start validation...\n",
      "Epoch 8, Train Loss: 0.2645, Train Acc: 0.9048, Val Loss: 0.1891, Val Acc: 0.9292\n",
      "Validation loss decreased, saving model...\n",
      "Start training...\n",
      "Start validation...\n",
      "Epoch 9, Train Loss: 0.2209, Train Acc: 0.9182, Val Loss: 0.1957, Val Acc: 0.9341\n",
      "Start training...\n",
      "Start validation...\n",
      "Epoch 10, Train Loss: 0.1855, Train Acc: 0.9306, Val Loss: 0.1376, Val Acc: 0.9586\n",
      "Validation loss decreased, saving model...\n",
      "Start training...\n",
      "Start validation...\n",
      "Epoch 11, Train Loss: 0.1711, Train Acc: 0.9365, Val Loss: 0.0924, Val Acc: 0.9675\n",
      "Validation loss decreased, saving model...\n",
      "Start training...\n",
      "Start validation...\n",
      "Epoch 12, Train Loss: 0.1460, Train Acc: 0.9465, Val Loss: 0.0980, Val Acc: 0.9655\n",
      "Start training...\n",
      "Start validation...\n",
      "Epoch 13, Train Loss: 0.1376, Train Acc: 0.9519, Val Loss: 0.0892, Val Acc: 0.9735\n",
      "Validation loss decreased, saving model...\n",
      "Start training...\n",
      "Start validation...\n",
      "Epoch 14, Train Loss: 0.1228, Train Acc: 0.9559, Val Loss: 0.0757, Val Acc: 0.9737\n",
      "Validation loss decreased, saving model...\n",
      "Start training...\n",
      "Start validation...\n",
      "Epoch 15, Train Loss: 0.1046, Train Acc: 0.9637, Val Loss: 0.0546, Val Acc: 0.9849\n",
      "Validation loss decreased, saving model...\n",
      "Start training...\n",
      "Start validation...\n",
      "Epoch 16, Train Loss: 0.0983, Train Acc: 0.9648, Val Loss: 0.0394, Val Acc: 0.9892\n",
      "Validation loss decreased, saving model...\n",
      "Start training...\n",
      "Start validation...\n",
      "Epoch 17, Train Loss: 0.0915, Train Acc: 0.9661, Val Loss: 0.0647, Val Acc: 0.9789\n",
      "Start training...\n",
      "Start validation...\n",
      "Epoch 18, Train Loss: 0.0808, Train Acc: 0.9700, Val Loss: 0.0769, Val Acc: 0.9735\n",
      "Start training...\n",
      "Start validation...\n",
      "Epoch 19, Train Loss: 0.0803, Train Acc: 0.9716, Val Loss: 0.0470, Val Acc: 0.9843\n",
      "Start training...\n",
      "Start validation...\n",
      "Epoch 20, Train Loss: 0.0634, Train Acc: 0.9768, Val Loss: 0.0326, Val Acc: 0.9889\n",
      "Validation loss decreased, saving model...\n",
      "Start training...\n",
      "Start validation...\n",
      "Epoch 21, Train Loss: 0.0509, Train Acc: 0.9827, Val Loss: 0.0190, Val Acc: 0.9937\n",
      "Validation loss decreased, saving model...\n",
      "Start training...\n",
      "Start validation...\n",
      "Epoch 22, Train Loss: 0.0561, Train Acc: 0.9810, Val Loss: 0.0133, Val Acc: 0.9957\n",
      "Validation loss decreased, saving model...\n",
      "Start training...\n",
      "Start validation...\n",
      "Epoch 23, Train Loss: 0.0614, Train Acc: 0.9801, Val Loss: 0.0315, Val Acc: 0.9892\n",
      "Start training...\n",
      "Start validation...\n",
      "Epoch 24, Train Loss: 0.0453, Train Acc: 0.9852, Val Loss: 0.0246, Val Acc: 0.9912\n",
      "Start training...\n",
      "Start validation...\n",
      "Epoch 25, Train Loss: 0.0501, Train Acc: 0.9838, Val Loss: 0.0794, Val Acc: 0.9735\n",
      "Start training...\n",
      "Start validation...\n",
      "Epoch 26, Train Loss: 0.0457, Train Acc: 0.9854, Val Loss: 0.0325, Val Acc: 0.9897\n",
      "Start training...\n",
      "Start validation...\n",
      "Epoch 27, Train Loss: 0.0486, Train Acc: 0.9833, Val Loss: 0.0205, Val Acc: 0.9940\n",
      "Start training...\n",
      "Start validation...\n",
      "Epoch 28, Train Loss: 0.0445, Train Acc: 0.9845, Val Loss: 0.0187, Val Acc: 0.9949\n",
      "Start training...\n",
      "Start validation...\n",
      "Epoch 29, Train Loss: 0.0368, Train Acc: 0.9879, Val Loss: 0.0271, Val Acc: 0.9909\n",
      "Start training...\n",
      "Start validation...\n",
      "Epoch 30, Train Loss: 0.0439, Train Acc: 0.9850, Val Loss: 0.0197, Val Acc: 0.9937\n",
      "Start training...\n",
      "Start validation...\n",
      "Epoch 31, Train Loss: 0.0311, Train Acc: 0.9896, Val Loss: 0.0087, Val Acc: 0.9977\n",
      "Validation loss decreased, saving model...\n",
      "Start training...\n",
      "Start validation...\n",
      "Epoch 32, Train Loss: 0.0256, Train Acc: 0.9918, Val Loss: 0.0097, Val Acc: 0.9971\n",
      "Start training...\n",
      "Start validation...\n",
      "Epoch 33, Train Loss: 0.0370, Train Acc: 0.9868, Val Loss: 0.0115, Val Acc: 0.9954\n",
      "Start training...\n",
      "Start validation...\n",
      "Epoch 34, Train Loss: 0.0346, Train Acc: 0.9879, Val Loss: 0.0405, Val Acc: 0.9852\n",
      "Start training...\n",
      "Start validation...\n",
      "Epoch 35, Train Loss: 0.0405, Train Acc: 0.9884, Val Loss: 0.0126, Val Acc: 0.9957\n",
      "Start training...\n",
      "Start validation...\n",
      "Epoch 36, Train Loss: 0.0411, Train Acc: 0.9862, Val Loss: 0.0407, Val Acc: 0.9877\n",
      "Start training...\n",
      "Start validation...\n",
      "Epoch 37, Train Loss: 0.0356, Train Acc: 0.9895, Val Loss: 0.0160, Val Acc: 0.9960\n",
      "Start training...\n",
      "Start validation...\n",
      "Epoch 38, Train Loss: 0.0519, Train Acc: 0.9829, Val Loss: 0.0202, Val Acc: 0.9934\n",
      "Start training...\n",
      "Start validation...\n",
      "Epoch 39, Train Loss: 0.0354, Train Acc: 0.9885, Val Loss: 0.0182, Val Acc: 0.9963\n",
      "Start training...\n",
      "Start validation...\n",
      "Epoch 40, Train Loss: 0.0321, Train Acc: 0.9894, Val Loss: 0.0119, Val Acc: 0.9966\n",
      "Start training...\n",
      "Start validation...\n",
      "Epoch 41, Train Loss: 0.0317, Train Acc: 0.9895, Val Loss: 0.0115, Val Acc: 0.9960\n",
      "Start training...\n",
      "Start validation...\n",
      "Epoch 42, Train Loss: 0.0233, Train Acc: 0.9915, Val Loss: 0.0102, Val Acc: 0.9971\n",
      "Start training...\n",
      "Start validation...\n",
      "Epoch 43, Train Loss: 0.0227, Train Acc: 0.9926, Val Loss: 0.0163, Val Acc: 0.9946\n",
      "Start training...\n",
      "Start validation...\n",
      "Epoch 44, Train Loss: 0.0282, Train Acc: 0.9905, Val Loss: 0.0102, Val Acc: 0.9971\n",
      "Start training...\n",
      "Start validation...\n",
      "Epoch 45, Train Loss: 0.0274, Train Acc: 0.9909, Val Loss: 0.0153, Val Acc: 0.9951\n",
      "Start training...\n",
      "Start validation...\n",
      "Epoch 46, Train Loss: 0.0272, Train Acc: 0.9904, Val Loss: 0.0084, Val Acc: 0.9980\n",
      "Validation loss decreased, saving model...\n",
      "Start training...\n",
      "Start validation...\n",
      "Epoch 47, Train Loss: 0.0234, Train Acc: 0.9921, Val Loss: 0.0178, Val Acc: 0.9931\n",
      "Start training...\n",
      "Start validation...\n",
      "Epoch 48, Train Loss: 0.0243, Train Acc: 0.9907, Val Loss: 0.0060, Val Acc: 0.9977\n",
      "Validation loss decreased, saving model...\n",
      "Start training...\n",
      "Start validation...\n",
      "Epoch 49, Train Loss: 0.0299, Train Acc: 0.9904, Val Loss: 0.0156, Val Acc: 0.9946\n",
      "Start training...\n",
      "Start validation...\n",
      "Epoch 50, Train Loss: 0.0200, Train Acc: 0.9933, Val Loss: 0.0079, Val Acc: 0.9980\n",
      "Start training...\n",
      "Start validation...\n",
      "Epoch 51, Train Loss: 0.0229, Train Acc: 0.9922, Val Loss: 0.0065, Val Acc: 0.9991\n",
      "Start training...\n",
      "Start validation...\n",
      "Epoch 52, Train Loss: 0.0197, Train Acc: 0.9935, Val Loss: 0.0069, Val Acc: 0.9980\n",
      "Start training...\n",
      "Start validation...\n",
      "Epoch 53, Train Loss: 0.0119, Train Acc: 0.9964, Val Loss: 0.0050, Val Acc: 0.9986\n",
      "Validation loss decreased, saving model...\n",
      "Start training...\n",
      "Start validation...\n",
      "Epoch 54, Train Loss: 0.0228, Train Acc: 0.9930, Val Loss: 0.0074, Val Acc: 0.9977\n",
      "Start training...\n",
      "Start validation...\n",
      "Epoch 55, Train Loss: 0.0286, Train Acc: 0.9911, Val Loss: 0.0131, Val Acc: 0.9963\n",
      "Start training...\n",
      "Start validation...\n",
      "Epoch 56, Train Loss: 0.0241, Train Acc: 0.9921, Val Loss: 0.0236, Val Acc: 0.9917\n",
      "Start training...\n",
      "Start validation...\n",
      "Epoch 57, Train Loss: 0.0267, Train Acc: 0.9923, Val Loss: 0.0215, Val Acc: 0.9934\n",
      "Start training...\n",
      "Start validation...\n",
      "Epoch 58, Train Loss: 0.0183, Train Acc: 0.9939, Val Loss: 0.0188, Val Acc: 0.9931\n",
      "Start training...\n",
      "Start validation...\n",
      "Epoch 59, Train Loss: 0.0250, Train Acc: 0.9916, Val Loss: 0.0092, Val Acc: 0.9974\n",
      "Start training...\n",
      "Start validation...\n",
      "Epoch 60, Train Loss: 0.0174, Train Acc: 0.9935, Val Loss: 0.0116, Val Acc: 0.9951\n",
      "Start training...\n",
      "Start validation...\n",
      "Epoch 61, Train Loss: 0.0240, Train Acc: 0.9927, Val Loss: 0.0062, Val Acc: 0.9986\n",
      "Start training...\n",
      "Start validation...\n",
      "Epoch 62, Train Loss: 0.0266, Train Acc: 0.9915, Val Loss: 0.0090, Val Acc: 0.9974\n",
      "Start training...\n",
      "Start validation...\n",
      "Epoch 63, Train Loss: 0.0203, Train Acc: 0.9934, Val Loss: 0.0026, Val Acc: 0.9991\n",
      "Validation loss decreased, saving model...\n",
      "Start training...\n",
      "Start validation...\n",
      "Epoch 64, Train Loss: 0.0239, Train Acc: 0.9930, Val Loss: 0.0138, Val Acc: 0.9963\n",
      "Start training...\n",
      "Start validation...\n",
      "Epoch 65, Train Loss: 0.0229, Train Acc: 0.9925, Val Loss: 0.0031, Val Acc: 0.9991\n",
      "Start training...\n",
      "Start validation...\n",
      "Epoch 66, Train Loss: 0.0132, Train Acc: 0.9959, Val Loss: 0.0093, Val Acc: 0.9966\n",
      "Start training...\n",
      "Start validation...\n",
      "Epoch 67, Train Loss: 0.0322, Train Acc: 0.9890, Val Loss: 0.0064, Val Acc: 0.9969\n",
      "Start training...\n",
      "Start validation...\n",
      "Epoch 68, Train Loss: 0.0250, Train Acc: 0.9920, Val Loss: 0.0150, Val Acc: 0.9957\n",
      "Start training...\n",
      "Start validation...\n",
      "Epoch 69, Train Loss: 0.0196, Train Acc: 0.9942, Val Loss: 0.0123, Val Acc: 0.9971\n",
      "Start training...\n",
      "Start validation...\n",
      "Epoch 70, Train Loss: 0.0289, Train Acc: 0.9899, Val Loss: 0.0094, Val Acc: 0.9980\n",
      "Start training...\n",
      "Start validation...\n",
      "Epoch 71, Train Loss: 0.0182, Train Acc: 0.9945, Val Loss: 0.0147, Val Acc: 0.9963\n",
      "Start training...\n",
      "Start validation...\n",
      "Epoch 72, Train Loss: 0.0246, Train Acc: 0.9920, Val Loss: 0.0057, Val Acc: 0.9977\n",
      "Start training...\n",
      "Start validation...\n",
      "Epoch 73, Train Loss: 0.0185, Train Acc: 0.9942, Val Loss: 0.0099, Val Acc: 0.9971\n",
      "Start training...\n",
      "Start validation...\n",
      "Epoch 74, Train Loss: 0.0212, Train Acc: 0.9940, Val Loss: 0.0097, Val Acc: 0.9963\n",
      "Start training...\n",
      "Start validation...\n",
      "Epoch 75, Train Loss: 0.0163, Train Acc: 0.9950, Val Loss: 0.0089, Val Acc: 0.9969\n",
      "Start training...\n",
      "Start validation...\n",
      "Epoch 76, Train Loss: 0.0244, Train Acc: 0.9922, Val Loss: 0.0075, Val Acc: 0.9977\n",
      "Start training...\n",
      "Start validation...\n",
      "Epoch 77, Train Loss: 0.0137, Train Acc: 0.9953, Val Loss: 0.0089, Val Acc: 0.9977\n",
      "Start training...\n",
      "Start validation...\n",
      "Epoch 78, Train Loss: 0.0226, Train Acc: 0.9929, Val Loss: 0.0079, Val Acc: 0.9963\n",
      "Start training...\n",
      "Start validation...\n",
      "Epoch 79, Train Loss: 0.0160, Train Acc: 0.9943, Val Loss: 0.0030, Val Acc: 0.9989\n",
      "Start training...\n",
      "Start validation...\n",
      "Epoch 80, Train Loss: 0.0219, Train Acc: 0.9936, Val Loss: 0.0074, Val Acc: 0.9980\n",
      "Start training...\n",
      "Start validation...\n",
      "Epoch 81, Train Loss: 0.0217, Train Acc: 0.9943, Val Loss: 0.0026, Val Acc: 0.9989\n",
      "Validation loss decreased, saving model...\n",
      "Start training...\n",
      "Start validation...\n",
      "Epoch 82, Train Loss: 0.0149, Train Acc: 0.9961, Val Loss: 0.0072, Val Acc: 0.9971\n",
      "Start training...\n",
      "Start validation...\n",
      "Epoch 83, Train Loss: 0.0215, Train Acc: 0.9939, Val Loss: 0.0117, Val Acc: 0.9954\n",
      "Start training...\n",
      "Start validation...\n",
      "Epoch 84, Train Loss: 0.0156, Train Acc: 0.9956, Val Loss: 0.0072, Val Acc: 0.9983\n",
      "Start training...\n",
      "Start validation...\n",
      "Epoch 85, Train Loss: 0.0223, Train Acc: 0.9924, Val Loss: 0.0051, Val Acc: 0.9986\n",
      "Start training...\n",
      "Start validation...\n",
      "Epoch 86, Train Loss: 0.0211, Train Acc: 0.9933, Val Loss: 0.0067, Val Acc: 0.9980\n",
      "Start training...\n",
      "Start validation...\n",
      "Epoch 87, Train Loss: 0.0205, Train Acc: 0.9934, Val Loss: 0.0057, Val Acc: 0.9983\n",
      "Start training...\n",
      "Start validation...\n",
      "Epoch 88, Train Loss: 0.0196, Train Acc: 0.9937, Val Loss: 0.0071, Val Acc: 0.9977\n",
      "Start training...\n",
      "Start validation...\n",
      "Epoch 89, Train Loss: 0.0245, Train Acc: 0.9906, Val Loss: 0.0054, Val Acc: 0.9989\n",
      "Start training...\n",
      "Start validation...\n",
      "Epoch 90, Train Loss: 0.0159, Train Acc: 0.9957, Val Loss: 0.0307, Val Acc: 0.9917\n",
      "Start training...\n",
      "Start validation...\n",
      "Epoch 91, Train Loss: 0.0121, Train Acc: 0.9953, Val Loss: 0.0036, Val Acc: 0.9983\n",
      "Start training...\n",
      "Start validation...\n",
      "Epoch 92, Train Loss: 0.0161, Train Acc: 0.9948, Val Loss: 0.0066, Val Acc: 0.9974\n",
      "Start training...\n",
      "Start validation...\n",
      "Epoch 93, Train Loss: 0.0128, Train Acc: 0.9955, Val Loss: 0.0516, Val Acc: 0.9880\n",
      "Start training...\n",
      "Start validation...\n",
      "Epoch 94, Train Loss: 0.0228, Train Acc: 0.9926, Val Loss: 0.0096, Val Acc: 0.9971\n",
      "Start training...\n",
      "Start validation...\n",
      "Epoch 95, Train Loss: 0.0083, Train Acc: 0.9969, Val Loss: 0.0011, Val Acc: 1.0000\n",
      "Validation loss decreased, saving model...\n",
      "Start training...\n",
      "Start validation...\n",
      "Epoch 96, Train Loss: 0.0292, Train Acc: 0.9909, Val Loss: 0.0174, Val Acc: 0.9949\n",
      "Start training...\n",
      "Start validation...\n",
      "Epoch 97, Train Loss: 0.0164, Train Acc: 0.9937, Val Loss: 0.0060, Val Acc: 0.9980\n",
      "Start training...\n",
      "Start validation...\n",
      "Epoch 98, Train Loss: 0.0179, Train Acc: 0.9940, Val Loss: 0.0044, Val Acc: 0.9991\n",
      "Start training...\n",
      "Start validation...\n",
      "Epoch 99, Train Loss: 0.0128, Train Acc: 0.9959, Val Loss: 0.0052, Val Acc: 0.9983\n",
      "Start training...\n",
      "Start validation...\n",
      "Epoch 100, Train Loss: 0.0124, Train Acc: 0.9959, Val Loss: 0.0094, Val Acc: 0.9971\n",
      "Start training...\n",
      "Start validation...\n",
      "Epoch 101, Train Loss: 0.0178, Train Acc: 0.9943, Val Loss: 0.0047, Val Acc: 0.9983\n",
      "Start training...\n",
      "Start validation...\n",
      "Epoch 102, Train Loss: 0.0202, Train Acc: 0.9934, Val Loss: 0.0055, Val Acc: 0.9989\n",
      "Start training...\n",
      "Start validation...\n",
      "Epoch 103, Train Loss: 0.0130, Train Acc: 0.9957, Val Loss: 0.0063, Val Acc: 0.9991\n",
      "Start training...\n",
      "Start validation...\n",
      "Epoch 104, Train Loss: 0.0142, Train Acc: 0.9957, Val Loss: 0.0216, Val Acc: 0.9963\n",
      "Start training...\n",
      "Start validation...\n",
      "Epoch 105, Train Loss: 0.0187, Train Acc: 0.9948, Val Loss: 0.0091, Val Acc: 0.9963\n",
      "Start training...\n",
      "Start validation...\n",
      "Epoch 106, Train Loss: 0.0086, Train Acc: 0.9966, Val Loss: 0.0018, Val Acc: 0.9994\n",
      "Start training...\n",
      "Start validation...\n",
      "Epoch 107, Train Loss: 0.0214, Train Acc: 0.9934, Val Loss: 0.0049, Val Acc: 0.9986\n",
      "Start training...\n",
      "Start validation...\n",
      "Epoch 108, Train Loss: 0.0110, Train Acc: 0.9965, Val Loss: 0.0054, Val Acc: 0.9980\n",
      "Start training...\n",
      "Start validation...\n",
      "Epoch 109, Train Loss: 0.0216, Train Acc: 0.9941, Val Loss: 0.0137, Val Acc: 0.9957\n",
      "Start training...\n",
      "Start validation...\n",
      "Epoch 110, Train Loss: 0.0195, Train Acc: 0.9935, Val Loss: 0.0076, Val Acc: 0.9977\n",
      "Start training...\n",
      "Start validation...\n",
      "Epoch 111, Train Loss: 0.0165, Train Acc: 0.9939, Val Loss: 0.0051, Val Acc: 0.9983\n",
      "Start training...\n",
      "Start validation...\n",
      "Epoch 112, Train Loss: 0.0187, Train Acc: 0.9932, Val Loss: 0.0128, Val Acc: 0.9957\n",
      "Start training...\n",
      "Start validation...\n",
      "Epoch 113, Train Loss: 0.0082, Train Acc: 0.9970, Val Loss: 0.0033, Val Acc: 0.9994\n",
      "Start training...\n",
      "Start validation...\n",
      "Epoch 114, Train Loss: 0.0096, Train Acc: 0.9972, Val Loss: 0.0067, Val Acc: 0.9974\n",
      "Start training...\n",
      "Start validation...\n",
      "Epoch 115, Train Loss: 0.0130, Train Acc: 0.9958, Val Loss: 0.0034, Val Acc: 0.9991\n",
      "Start training...\n",
      "Start validation...\n",
      "Epoch 116, Train Loss: 0.0168, Train Acc: 0.9947, Val Loss: 0.0071, Val Acc: 0.9980\n",
      "Start training...\n",
      "Start validation...\n",
      "Epoch 117, Train Loss: 0.0100, Train Acc: 0.9970, Val Loss: 0.0050, Val Acc: 0.9986\n",
      "Start training...\n",
      "Start validation...\n",
      "Epoch 118, Train Loss: 0.0088, Train Acc: 0.9967, Val Loss: 0.0073, Val Acc: 0.9983\n",
      "Start training...\n",
      "Start validation...\n",
      "Epoch 119, Train Loss: 0.0150, Train Acc: 0.9948, Val Loss: 0.0105, Val Acc: 0.9966\n",
      "Start training...\n",
      "Start validation...\n",
      "Epoch 120, Train Loss: 0.0211, Train Acc: 0.9939, Val Loss: 0.0025, Val Acc: 0.9994\n",
      "Start training...\n",
      "Start validation...\n",
      "Epoch 121, Train Loss: 0.0169, Train Acc: 0.9939, Val Loss: 0.0152, Val Acc: 0.9946\n",
      "Start training...\n",
      "Start validation...\n",
      "Epoch 122, Train Loss: 0.0182, Train Acc: 0.9948, Val Loss: 0.0027, Val Acc: 0.9994\n",
      "Start training...\n",
      "Start validation...\n",
      "Epoch 123, Train Loss: 0.0163, Train Acc: 0.9951, Val Loss: 0.0040, Val Acc: 0.9989\n",
      "Start training...\n",
      "Start validation...\n",
      "Epoch 124, Train Loss: 0.0147, Train Acc: 0.9958, Val Loss: 0.0053, Val Acc: 0.9983\n",
      "Start training...\n",
      "Start validation...\n",
      "Epoch 125, Train Loss: 0.0074, Train Acc: 0.9981, Val Loss: 0.0010, Val Acc: 0.9997\n",
      "Validation loss decreased, saving model...\n",
      "Start training...\n",
      "Start validation...\n",
      "Epoch 126, Train Loss: 0.0157, Train Acc: 0.9951, Val Loss: 0.0055, Val Acc: 0.9977\n",
      "Start training...\n",
      "Start validation...\n",
      "Epoch 127, Train Loss: 0.0088, Train Acc: 0.9971, Val Loss: 0.0092, Val Acc: 0.9960\n",
      "Start training...\n",
      "Start validation...\n",
      "Epoch 128, Train Loss: 0.0108, Train Acc: 0.9957, Val Loss: 0.0062, Val Acc: 0.9977\n",
      "Start training...\n",
      "Start validation...\n",
      "Epoch 129, Train Loss: 0.0159, Train Acc: 0.9944, Val Loss: 0.0027, Val Acc: 0.9991\n",
      "Start training...\n",
      "Start validation...\n",
      "Epoch 130, Train Loss: 0.0161, Train Acc: 0.9944, Val Loss: 0.0111, Val Acc: 0.9963\n",
      "Start training...\n",
      "Start validation...\n",
      "Epoch 131, Train Loss: 0.0150, Train Acc: 0.9945, Val Loss: 0.0023, Val Acc: 0.9997\n",
      "Start training...\n",
      "Start validation...\n",
      "Epoch 132, Train Loss: 0.0172, Train Acc: 0.9947, Val Loss: 0.0022, Val Acc: 0.9991\n",
      "Start training...\n",
      "Start validation...\n",
      "Epoch 133, Train Loss: 0.0089, Train Acc: 0.9971, Val Loss: 0.0077, Val Acc: 0.9974\n",
      "Start training...\n",
      "Start validation...\n",
      "Epoch 134, Train Loss: 0.0155, Train Acc: 0.9950, Val Loss: 0.0031, Val Acc: 0.9991\n",
      "Start training...\n",
      "Start validation...\n",
      "Epoch 135, Train Loss: 0.0110, Train Acc: 0.9967, Val Loss: 0.0020, Val Acc: 0.9994\n",
      "Start training...\n",
      "Start validation...\n",
      "Epoch 136, Train Loss: 0.0149, Train Acc: 0.9950, Val Loss: 0.0104, Val Acc: 0.9963\n",
      "Start training...\n",
      "Start validation...\n",
      "Epoch 137, Train Loss: 0.0122, Train Acc: 0.9956, Val Loss: 0.0056, Val Acc: 0.9974\n",
      "Start training...\n",
      "Start validation...\n",
      "Epoch 138, Train Loss: 0.0088, Train Acc: 0.9967, Val Loss: 0.0091, Val Acc: 0.9969\n",
      "Start training...\n",
      "Start validation...\n",
      "Epoch 139, Train Loss: 0.0125, Train Acc: 0.9963, Val Loss: 0.0045, Val Acc: 0.9986\n",
      "Start training...\n",
      "Start validation...\n",
      "Epoch 140, Train Loss: 0.0115, Train Acc: 0.9966, Val Loss: 0.0067, Val Acc: 0.9974\n",
      "Start training...\n",
      "Start validation...\n",
      "Epoch 141, Train Loss: 0.0167, Train Acc: 0.9954, Val Loss: 0.0044, Val Acc: 0.9986\n",
      "Start training...\n",
      "Start validation...\n",
      "Epoch 142, Train Loss: 0.0140, Train Acc: 0.9957, Val Loss: 0.0123, Val Acc: 0.9969\n",
      "Start training...\n",
      "Start validation...\n",
      "Epoch 143, Train Loss: 0.0102, Train Acc: 0.9963, Val Loss: 0.0053, Val Acc: 0.9983\n",
      "Start training...\n",
      "Start validation...\n",
      "Epoch 144, Train Loss: 0.0093, Train Acc: 0.9975, Val Loss: 0.0071, Val Acc: 0.9989\n",
      "Start training...\n",
      "Start validation...\n",
      "Epoch 145, Train Loss: 0.0107, Train Acc: 0.9960, Val Loss: 0.0127, Val Acc: 0.9960\n",
      "Start training...\n",
      "Start validation...\n",
      "Epoch 146, Train Loss: 0.0193, Train Acc: 0.9945, Val Loss: 0.0113, Val Acc: 0.9957\n",
      "Start training...\n",
      "Start validation...\n",
      "Epoch 147, Train Loss: 0.0121, Train Acc: 0.9966, Val Loss: 0.0020, Val Acc: 0.9994\n",
      "Start training...\n",
      "Start validation...\n",
      "Epoch 148, Train Loss: 0.0088, Train Acc: 0.9964, Val Loss: 0.0033, Val Acc: 0.9986\n",
      "Start training...\n",
      "Start validation...\n",
      "Epoch 149, Train Loss: 0.0109, Train Acc: 0.9963, Val Loss: 0.0038, Val Acc: 0.9986\n",
      "Start training...\n",
      "Start validation...\n",
      "Epoch 150, Train Loss: 0.0156, Train Acc: 0.9953, Val Loss: 0.0025, Val Acc: 0.9991\n",
      "Start training...\n",
      "Start validation...\n",
      "Epoch 151, Train Loss: 0.0093, Train Acc: 0.9970, Val Loss: 0.0037, Val Acc: 0.9989\n",
      "Start training...\n",
      "Start validation...\n",
      "Epoch 152, Train Loss: 0.0052, Train Acc: 0.9983, Val Loss: 0.0067, Val Acc: 0.9983\n",
      "Start training...\n",
      "Start validation...\n",
      "Epoch 153, Train Loss: 0.0129, Train Acc: 0.9963, Val Loss: 0.0028, Val Acc: 0.9991\n",
      "Start training...\n",
      "Start validation...\n",
      "Epoch 154, Train Loss: 0.0146, Train Acc: 0.9946, Val Loss: 0.0055, Val Acc: 0.9983\n",
      "Start training...\n",
      "Start validation...\n",
      "Epoch 155, Train Loss: 0.0198, Train Acc: 0.9947, Val Loss: 0.0131, Val Acc: 0.9949\n",
      "Early stopping triggered\n"
     ]
    }
   ],
   "source": [
    "from torch.utils.data import DataLoader\n",
    "\n",
    "batch_size = 128\n",
    "\n",
    "train_loader = DataLoader(train_dataset, batch_size=batch_size, shuffle=True, num_workers=1)\n",
    "val_loader = DataLoader(val_dataset, batch_size=batch_size, shuffle=False, num_workers=1)\n",
    "\n",
    "\n",
    "device = torch.device(\"cuda:0\")\n",
    "\n",
    "model = model.to(device)\n",
    "\n",
    "optimizer = optim.Adam(model.parameters(), lr=1e-4)\n",
    "criterion = nn.CrossEntropyLoss()\n",
    "\n",
    "def train_one_epoch(model, train_loader, criterion, optimizer, device):\n",
    "    print('Start training...')\n",
    "    model.train()\n",
    "    running_loss = 0.0\n",
    "    correct = 0\n",
    "    total = 0\n",
    "    for inputs, labels in train_loader:\n",
    "        \n",
    "        inputs, labels = inputs.to(device), labels.to(device)\n",
    "        optimizer.zero_grad()\n",
    "        outputs = model(inputs)\n",
    "        outputs = outputs.view(outputs.size(0), -1)\n",
    "            \n",
    "        # print('Shape of outputs: ' , outputs.shape)\n",
    "        # print('Shape of labels: ' , labels.shape)\n",
    "        \n",
    "        loss = criterion(outputs, labels)\n",
    "        \n",
    "        loss.backward()\n",
    "        optimizer.step()\n",
    "        \n",
    "        running_loss += loss.item()\n",
    "        _, predicted = torch.max(outputs.data, 1)\n",
    "        total += labels.size(0)\n",
    "        correct += (predicted == labels).sum().item()\n",
    "        \n",
    "    train_loss = running_loss / len(train_loader)\n",
    "    train_acc = correct / total\n",
    "    return train_loss, train_acc\n",
    "\n",
    "def validate(model, val_loader, criterion, device):\n",
    "    print('Start validation...')\n",
    "    model.eval()\n",
    "    running_loss = 0.0\n",
    "    correct = 0\n",
    "    total = 0\n",
    "    all_labels = []\n",
    "    all_predictions = []\n",
    "    with torch.no_grad():\n",
    "        for inputs, labels in val_loader:\n",
    "            inputs, labels = inputs.to(device), labels.to(device)\n",
    "            \n",
    "            outputs = model(inputs)\n",
    "            outputs = outputs.view(outputs.size(0), -1)\n",
    "            \n",
    "            loss = criterion(outputs, labels)\n",
    "            \n",
    "            running_loss += loss.item()\n",
    "            _, predicted = torch.max(outputs.data, 1)\n",
    "            total += labels.size(0)\n",
    "            correct += (predicted == labels).sum().item()\n",
    "            \n",
    "            all_labels.extend(labels.cpu().numpy())\n",
    "            all_predictions.extend(predicted.cpu().numpy())\n",
    "            \n",
    "    val_loss = running_loss / len(val_loader)\n",
    "    val_acc = correct / total\n",
    "    return val_loss, val_acc, all_labels, all_predictions\n",
    "\n",
    "best_val_loss = float('inf')\n",
    "early_stopping_counter = 0\n",
    "\n",
    "train_losses = []\n",
    "val_losses = []\n",
    "train_accuracies = []\n",
    "val_accuracies = []\n",
    "\n",
    "for epoch in range(999):  # Set the number of epochs\n",
    "    train_loss, train_acc = train_one_epoch(model, train_loader, criterion, optimizer, device)\n",
    "    val_loss, val_acc, all_labels, all_predictions = validate(model, val_loader, criterion, device)\n",
    "    \n",
    "    train_losses.append(train_loss)\n",
    "    val_losses.append(val_loss)\n",
    "    train_accuracies.append(train_acc)\n",
    "    val_accuracies.append(val_acc)\n",
    "    \n",
    "    print(f'Epoch {epoch+1}, Train Loss: {train_loss:.4f}, Train Acc: {train_acc:.4f}, Val Loss: {val_loss:.4f}, Val Acc: {val_acc:.4f}')\n",
    "    \n",
    "    if val_loss < best_val_loss:\n",
    "        print(\"Validation loss decreased, saving model...\")\n",
    "        best_val_loss = val_loss\n",
    "        torch.save(model.state_dict(), r'/home/jovyan/shared/abulgheroni/output/best_swin_large_train_5_5.pt')\n",
    "        early_stopping_counter = 0\n",
    "    else:\n",
    "        early_stopping_counter += 1\n",
    "        \n",
    "    if early_stopping_counter >= 30:\n",
    "        print(\"Early stopping triggered\")\n",
    "        break\n"
   ]
  },
  {
   "cell_type": "markdown",
   "metadata": {
    "id": "mdKEr9UiSzzX",
    "tags": []
   },
   "source": [
    "## Results\n",
    "#### Model stopped training after 155 epochs with Early stopping method. \n",
    "\n",
    "#### Now we will look at confusion matrix and classification report with Precision, Recall, and F1 score.\n",
    "####"
   ]
  },
  {
   "cell_type": "code",
   "execution_count": 25,
   "metadata": {},
   "outputs": [],
   "source": [
    "# Function to plot confusion matrix\n",
    "def plot_confusion_matrix(conf_matrix, class_names):\n",
    "    fig, ax = plt.subplots(figsize=(10, 10))\n",
    "    sns.heatmap(conf_matrix, annot=True, fmt='d', ax=ax, cmap='Blues', cbar=False)\n",
    "    ax.set_xlabel('Predicted labels')\n",
    "    ax.set_ylabel('True labels')\n",
    "    ax.set_title('Confusion Matrix')\n",
    "    ax.set_xticklabels(class_names)\n",
    "    ax.set_yticklabels(class_names)\n",
    "    plt.xticks(rotation=45)\n",
    "    plt.yticks(rotation=45)\n",
    "    plt.show()\n",
    "\n",
    "# Function to plot training and validation accuracy and loss\n",
    "def plot_metrics(train_accuracies, val_accuracies, train_losses, val_losses):\n",
    "    epochs = range(1, len(train_accuracies) + 1)\n",
    "    plt.figure(figsize=(12, 5))\n",
    "    \n",
    "    plt.subplot(1, 2, 1)\n",
    "    plt.plot(epochs, train_accuracies, label='Training Accuracy')\n",
    "    plt.plot(epochs, val_accuracies, label='Validation Accuracy')\n",
    "    plt.title('Training and Validation Accuracy')\n",
    "    plt.xlabel('Epoch')\n",
    "    plt.ylabel('Accuracy')\n",
    "    plt.legend()\n",
    "    \n",
    "    plt.subplot(1, 2, 2)\n",
    "    plt.plot(epochs, train_losses, label='Training Loss')\n",
    "    plt.plot(epochs, val_losses, label='Validation Loss')\n",
    "    plt.title('Training and Validation Loss')\n",
    "    plt.xlabel('Epoch')\n",
    "    plt.ylabel('Loss')\n",
    "    plt.legend()\n",
    "    \n",
    "    plt.tight_layout()\n",
    "    plt.show()"
   ]
  },
  {
   "cell_type": "code",
   "execution_count": 26,
   "metadata": {},
   "outputs": [
    {
     "data": {
      "image/png": "[encoded data removed]",
      "text/plain": [
       "<Figure size 1200x500 with 2 Axes>"
      ]
     },
     "metadata": {},
     "output_type": "display_data"
    },
    {
     "data": {
      "image/png": "[encoded data removed]",
      "text/plain": [
       "<Figure size 1000x1000 with 1 Axes>"
      ]
     },
     "metadata": {},
     "output_type": "display_data"
    }
   ],
   "source": [
    "# After training completes, plot the metrics and confusion matrix\n",
    "plot_metrics(train_accuracies, val_accuracies, train_losses, val_losses)\n",
    "\n",
    "# Confusion Matrix\n",
    "conf_matrix = confusion_matrix(all_labels, all_predictions)\n",
    "# Convert all_labels and all_predictions to the correct format if necessary\n",
    "class_names = {0: 'MEL', 1: 'NV', 2: 'BCC', 3:'AKIEC', 4:'BKL', 5:'DF', 6:'VASC'}  # Esempio di dizionario di mapping\n",
    "class_names = list(class_names.values())\n",
    "#class_names = val_dataset.classes\n",
    "plot_confusion_matrix(conf_matrix, class_names)"
   ]
  },
  {
   "cell_type": "markdown",
   "metadata": {
    "id": "XjYATYLjSzzY"
   },
   "source": [
    "## Test\n",
    "#### We use the test dataset discussed in the paper (HAM Test) to see how the model ranks never-before-seen images. The dataset consists of 1511 images divided into seven classes. \n",
    "####"
   ]
  },
  {
   "cell_type": "code",
   "execution_count": 27,
   "metadata": {},
   "outputs": [],
   "source": [
    "testdir = '/home/jovyan/nfs/mgallazzi/datasets/HAM10k_test_Duplicati/divided/'"
   ]
  },
  {
   "cell_type": "code",
   "execution_count": 29,
   "metadata": {
    "id": "ba_3orxRWrNH"
   },
   "outputs": [],
   "source": [
    "test_transforms = transforms.Compose([\n",
    "    \n",
    "    transforms.Resize((int(600 * scale_factor), int(450 * scale_factor))),  # Rescalo l'immagine al 50% mantenendo l'immagine in scala\n",
    "    transforms.CenterCrop((224, 224)),  # Applico il randomCrop a 224x224\n",
    "  \n",
    "    #transforms.RandomCrop((224, 224)),  # Applico il randomCrop a 224x224\n",
    "    transforms.ToTensor(),\n",
    "    transforms.Normalize(mean=[0.485, 0.456, 0.406], std=[0.229, 0.224, 0.225])\n",
    "    ])\n",
    "\n",
    "test_dataset = datasets.ImageFolder(\n",
    "    testdir, transform=test_transforms)\n"
   ]
  },
  {
   "cell_type": "code",
   "execution_count": 30,
   "metadata": {},
   "outputs": [],
   "source": [
    "test_loader = torch.utils.data.DataLoader(\n",
    "    test_dataset, batch_size=128, shuffle=True,\n",
    "    pin_memory=False, drop_last=False, num_workers=1)"
   ]
  },
  {
   "cell_type": "code",
   "execution_count": 32,
   "metadata": {
    "colab": {
     "base_uri": "https://localhost:8080/",
     "height": 636
    },
    "id": "2knpgw_BWSPA",
    "outputId": "8514d1c1-bb17-43a3-c81e-dc69138fb4ec",
    "tags": []
   },
   "outputs": [
    {
     "data": {
      "image/png": "[encoded data removed]",
      "text/plain": [
       "<Figure size 1000x1000 with 1 Axes>"
      ]
     },
     "metadata": {},
     "output_type": "display_data"
    },
    {
     "name": "stdout",
     "output_type": "stream",
     "text": [
      "              precision    recall  f1-score   support\n",
      "\n",
      "         MEL       0.74      0.68      0.71       171\n",
      "          NV       0.89      0.96      0.93       908\n",
      "         BCC       0.80      0.78      0.79        93\n",
      "       AKIEC       0.61      0.65      0.63        43\n",
      "         BKL       0.84      0.70      0.76       217\n",
      "          DF       0.88      0.52      0.66        44\n",
      "        VASC       0.93      0.77      0.84        35\n",
      "\n",
      "    accuracy                           0.86      1511\n",
      "   macro avg       0.81      0.72      0.76      1511\n",
      "weighted avg       0.85      0.86      0.85      1511\n",
      "\n"
     ]
    }
   ],
   "source": [
    "import torchvision.models as models\n",
    "\n",
    "# Define the device\n",
    "device = torch.device(\"cuda:0\" if torch.cuda.is_available() else \"cpu\")\n",
    "\n",
    "# Initialize the model\n",
    "model = timm.create_model('swin_large_patch4_window7_224', pretrained=False) # pretrained=False since we'll load custom weights\n",
    "\n",
    "# Modify the last layer to match the training architecture\n",
    "in_features = model.head.in_features  # Get the input size of the last linear layer\n",
    "model.head = nn.Linear(in_features, num_classes)  # Replace the old layer with a new one\n",
    "\n",
    "# Load the trained model weights\n",
    "model_path = '/home/jovyan/shared/abulgheroni/output/best_swin_large_train_5_5.pt'\n",
    "model.load_state_dict(torch.load(model_path, map_location=device))\n",
    "\n",
    "# Move the model to the appropriate device\n",
    "model = model.to(device)\n",
    "\n",
    "# Evaluation mode\n",
    "model.eval()\n",
    "\n",
    "num_classes = 7\n",
    "\n",
    "predlist_test=torch.zeros(0,dtype=torch.long, device='cpu')\n",
    "lbllist_test=torch.zeros(0,dtype=torch.long, device='cpu')\n",
    "predlistauc_test = torch.zeros(0,dtype=torch.long, device='cpu')\n",
    "with torch.no_grad():\n",
    "    for i, (inputs, classes) in enumerate(test_loader):\n",
    "        model.eval() \n",
    "        inputs = inputs.to(device)\n",
    "        classes = classes.to(device)\n",
    "        outputs = model(inputs)\n",
    "        outputs = outputs.view(outputs.size(0), -1)\n",
    "        _, preds = torch.max(outputs, 1)\n",
    "\n",
    "        # Append batch prediction results\n",
    "        predlist_test = torch.cat([predlist_test, preds.view(-1).cpu()])\n",
    "        lbllist_test = torch.cat([lbllist_test, classes.view(-1).cpu()])\n",
    "        predlistauc_test = torch.cat([predlistauc_test, nn.functional.softmax(outputs, dim=1).cpu()])\n",
    "\n",
    "# Conversion of tensors to numpy for further processing\n",
    "predlist_test = predlist_test.numpy()\n",
    "lbllist_test = lbllist_test.numpy()\n",
    "predlistauc_test = predlistauc_test.numpy()\n",
    "\n",
    "# Confusion matrix, classification report\n",
    "\n",
    "# Confusion Matrix\n",
    "conf_matrix = confusion_matrix(lbllist_test, predlist_test)\n",
    "# Convert all_labels and all_predictions to the correct format if necessary\n",
    "class_names = {0: 'MEL', 1: 'NV', 2: 'BCC', 3:'AKIEC', 4:'BKL', 5:'DF', 6:'VASC'}  \n",
    "class_names = list(class_names.values())\n",
    "plot_confusion_matrix(conf_matrix, class_names)\n",
    "\n",
    "print(classification_report(lbllist_test, predlist_test, target_names=class_names))"
   ]
  },
  {
   "cell_type": "markdown",
   "metadata": {},
   "source": [
    "## IMPORTANT: the result values are in decimal values. To obtain the exactly same value presented in the paper (85.64) you need to sum all the values on the diagonal and divid the result to 1511.\n",
    "\n",
    "### N.B. The result showned in this notebook referes to the experiment MEL8_5\n",
    "\n",
    "### Accuravy_value_in_paper = (116+876+73+28+151+23+27) / 1511 --> 85.64"
   ]
  },
  {
   "cell_type": "code",
   "execution_count": null,
   "metadata": {},
   "outputs": [],
   "source": []
  }
 ],
 "metadata": {
  "accelerator": "GPU",
  "colab": {
   "collapsed_sections": [],
   "name": "Skin_classifier.ipynb",
   "provenance": []
  },
  "kaggle": {
   "accelerator": "gpu",
   "dataSources": [
    {
     "datasetId": 1370616,
     "sourceId": 2275763,
     "sourceType": "datasetVersion"
    },
    {
     "datasetId": 4505962,
     "sourceId": 7715456,
     "sourceType": "datasetVersion"
    },
    {
     "datasetId": 4505965,
     "sourceId": 7715461,
     "sourceType": "datasetVersion"
    },
    {
     "datasetId": 4505966,
     "sourceId": 7715463,
     "sourceType": "datasetVersion"
    },
    {
     "datasetId": 4505982,
     "sourceId": 7715482,
     "sourceType": "datasetVersion"
    }
   ],
   "dockerImageVersionId": 30665,
   "isGpuEnabled": true,
   "isInternetEnabled": true,
   "language": "python",
   "sourceType": "notebook"
  },
  "kernelspec": {
   "display_name": "PyTorch 2.1.0 (Python 3.11)",
   "language": "python",
   "name": "python3"
  },
  "language_info": {
   "codemirror_mode": {
    "name": "ipython",
    "version": 3
   },
   "file_extension": ".py",
   "mimetype": "text/x-python",
   "name": "python",
   "nbconvert_exporter": "python",
   "pygments_lexer": "ipython3",
   "version": "3.11.6"
  },
  "widgets": {
   "application/vnd.jupyter.widget-state+json": {
    "1acf94a172b34beb97719742f7a340ab": {
     "model_module": "@jupyter-widgets/base",
     "model_name": "LayoutModel",
     "state": {
      "_model_module": "@jupyter-widgets/base",
      "_model_module_version": "1.2.0",
      "_model_name": "LayoutModel",
      "_view_count": null,
      "_view_module": "@jupyter-widgets/base",
      "_view_module_version": "1.2.0",
      "_view_name": "LayoutView",
      "align_content": null,
      "align_items": null,
      "align_self": null,
      "border": null,
      "bottom": null,
      "display": null,
      "flex": null,
      "flex_flow": null,
      "grid_area": null,
      "grid_auto_columns": null,
      "grid_auto_flow": null,
      "grid_auto_rows": null,
      "grid_column": null,
      "grid_gap": null,
      "grid_row": null,
      "grid_template_areas": null,
      "grid_template_columns": null,
      "grid_template_rows": null,
      "height": null,
      "justify_content": null,
      "justify_items": null,
      "left": null,
      "margin": null,
      "max_height": null,
      "max_width": null,
      "min_height": null,
      "min_width": null,
      "object_fit": null,
      "object_position": null,
      "order": null,
      "overflow": null,
      "overflow_x": null,
      "overflow_y": null,
      "padding": null,
      "right": null,
      "top": null,
      "visibility": null,
      "width": null
     }
    },
    "2c91fd89d7094f8ea80eab7135278b66": {
     "model_module": "@jupyter-widgets/controls",
     "model_name": "HTMLModel",
     "state": {
      "_dom_classes": [],
      "_model_module": "@jupyter-widgets/controls",
      "_model_module_version": "1.5.0",
      "_model_name": "HTMLModel",
      "_view_count": null,
      "_view_module": "@jupyter-widgets/controls",
      "_view_module_version": "1.5.0",
      "_view_name": "HTMLView",
      "description": "",
      "description_tooltip": null,
      "layout": "IPY_MODEL_cf56e07ca31e4aaead598e4c76ed59c0",
      "placeholder": "​",
      "style": "IPY_MODEL_518ad6c229e24a889f18f5dc571b49a1",
      "value": " 97.8M/97.8M [00:08&lt;00:00, 12.8MB/s]"
     }
    },
    "518ad6c229e24a889f18f5dc571b49a1": {
     "model_module": "@jupyter-widgets/controls",
     "model_name": "DescriptionStyleModel",
     "state": {
      "_model_module": "@jupyter-widgets/controls",
      "_model_module_version": "1.5.0",
      "_model_name": "DescriptionStyleModel",
      "_view_count": null,
      "_view_module": "@jupyter-widgets/base",
      "_view_module_version": "1.2.0",
      "_view_name": "StyleView",
      "description_width": ""
     }
    },
    "581a27dd91bc472aa20bdbb2fbe794fe": {
     "model_module": "@jupyter-widgets/controls",
     "model_name": "HBoxModel",
     "state": {
      "_dom_classes": [],
      "_model_module": "@jupyter-widgets/controls",
      "_model_module_version": "1.5.0",
      "_model_name": "HBoxModel",
      "_view_count": null,
      "_view_module": "@jupyter-widgets/controls",
      "_view_module_version": "1.5.0",
      "_view_name": "HBoxView",
      "box_style": "",
      "children": [
       "IPY_MODEL_bfd31272c80a423689c64c1c2e188e5f",
       "IPY_MODEL_2c91fd89d7094f8ea80eab7135278b66"
      ],
      "layout": "IPY_MODEL_7cb55a1237a14f27ab76d29213929c6b"
     }
    },
    "67a4bc927924426986a014b522a2d3ac": {
     "model_module": "@jupyter-widgets/controls",
     "model_name": "ProgressStyleModel",
     "state": {
      "_model_module": "@jupyter-widgets/controls",
      "_model_module_version": "1.5.0",
      "_model_name": "ProgressStyleModel",
      "_view_count": null,
      "_view_module": "@jupyter-widgets/base",
      "_view_module_version": "1.2.0",
      "_view_name": "StyleView",
      "bar_color": null,
      "description_width": "initial"
     }
    },
    "7cb55a1237a14f27ab76d29213929c6b": {
     "model_module": "@jupyter-widgets/base",
     "model_name": "LayoutModel",
     "state": {
      "_model_module": "@jupyter-widgets/base",
      "_model_module_version": "1.2.0",
      "_model_name": "LayoutModel",
      "_view_count": null,
      "_view_module": "@jupyter-widgets/base",
      "_view_module_version": "1.2.0",
      "_view_name": "LayoutView",
      "align_content": null,
      "align_items": null,
      "align_self": null,
      "border": null,
      "bottom": null,
      "display": null,
      "flex": null,
      "flex_flow": null,
      "grid_area": null,
      "grid_auto_columns": null,
      "grid_auto_flow": null,
      "grid_auto_rows": null,
      "grid_column": null,
      "grid_gap": null,
      "grid_row": null,
      "grid_template_areas": null,
      "grid_template_columns": null,
      "grid_template_rows": null,
      "height": null,
      "justify_content": null,
      "justify_items": null,
      "left": null,
      "margin": null,
      "max_height": null,
      "max_width": null,
      "min_height": null,
      "min_width": null,
      "object_fit": null,
      "object_position": null,
      "order": null,
      "overflow": null,
      "overflow_x": null,
      "overflow_y": null,
      "padding": null,
      "right": null,
      "top": null,
      "visibility": null,
      "width": null
     }
    },
    "bfd31272c80a423689c64c1c2e188e5f": {
     "model_module": "@jupyter-widgets/controls",
     "model_name": "FloatProgressModel",
     "state": {
      "_dom_classes": [],
      "_model_module": "@jupyter-widgets/controls",
      "_model_module_version": "1.5.0",
      "_model_name": "FloatProgressModel",
      "_view_count": null,
      "_view_module": "@jupyter-widgets/controls",
      "_view_module_version": "1.5.0",
      "_view_name": "ProgressView",
      "bar_style": "success",
      "description": "100%",
      "description_tooltip": null,
      "layout": "IPY_MODEL_1acf94a172b34beb97719742f7a340ab",
      "max": 102530333,
      "min": 0,
      "orientation": "horizontal",
      "style": "IPY_MODEL_67a4bc927924426986a014b522a2d3ac",
      "value": 102530333
     }
    },
    "cf56e07ca31e4aaead598e4c76ed59c0": {
     "model_module": "@jupyter-widgets/base",
     "model_name": "LayoutModel",
     "state": {
      "_model_module": "@jupyter-widgets/base",
      "_model_module_version": "1.2.0",
      "_model_name": "LayoutModel",
      "_view_count": null,
      "_view_module": "@jupyter-widgets/base",
      "_view_module_version": "1.2.0",
      "_view_name": "LayoutView",
      "align_content": null,
      "align_items": null,
      "align_self": null,
      "border": null,
      "bottom": null,
      "display": null,
      "flex": null,
      "flex_flow": null,
      "grid_area": null,
      "grid_auto_columns": null,
      "grid_auto_flow": null,
      "grid_auto_rows": null,
      "grid_column": null,
      "grid_gap": null,
      "grid_row": null,
      "grid_template_areas": null,
      "grid_template_columns": null,
      "grid_template_rows": null,
      "height": null,
      "justify_content": null,
      "justify_items": null,
      "left": null,
      "margin": null,
      "max_height": null,
      "max_width": null,
      "min_height": null,
      "min_width": null,
      "object_fit": null,
      "object_position": null,
      "order": null,
      "overflow": null,
      "overflow_x": null,
      "overflow_y": null,
      "padding": null,
      "right": null,
      "top": null,
      "visibility": null,
      "width": null
     }
    }
   }
  }
 },
 "nbformat": 4,
 "nbformat_minor": 4
}
